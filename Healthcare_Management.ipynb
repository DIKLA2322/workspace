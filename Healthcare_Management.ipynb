{
 "cells": [
  {
   "cell_type": "markdown",
   "source": [
    "Data preprocessing and cleaning"
   ],
   "metadata": {
    "collapsed": false
   }
  },
  {
   "cell_type": "code",
   "execution_count": 19,
   "metadata": {
    "collapsed": true
   },
   "outputs": [],
   "source": [
    "from sklearn.impute import SimpleImputer\n",
    "import os\n",
    "import pandas as pd\n",
    "import numpy as np\n",
    "\n",
    "np.set_printoptions(suppress=True,   precision=20,  threshold=10,  linewidth=40) # np禁止科学计数法显示\n",
    "pd.set_option('display.float_format',lambda x : '%.2f' % x) # pd禁止科学计数法显示"
   ]
  },
  {
   "cell_type": "code",
   "execution_count": 20,
   "outputs": [
    {
     "data": {
      "text/plain": "        case_id  Hospital_code Hospital_type_code  City_Code_Hospital  \\\n0             1              8                  c                   3   \n1             2              2                  c                   5   \n2             3             10                  e                   1   \n3             4             26                  b                   2   \n4             5             26                  b                   2   \n...         ...            ...                ...                 ...   \n318433   318434              6                  a                   6   \n318434   318435             24                  a                   1   \n318435   318436              7                  a                   4   \n318436   318437             11                  b                   2   \n318437   318438             19                  a                   7   \n\n       Hospital_region_code  Available Extra Rooms in Hospital    Department  \\\n0                         Z                                  3  radiotherapy   \n1                         Z                                  2  radiotherapy   \n2                         X                                  2    anesthesia   \n3                         Y                                  2  radiotherapy   \n4                         Y                                  2  radiotherapy   \n...                     ...                                ...           ...   \n318433                    X                                  3  radiotherapy   \n318434                    X                                  2    anesthesia   \n318435                    X                                  3    gynecology   \n318436                    Y                                  3    anesthesia   \n318437                    Y                                  5    gynecology   \n\n       Ward_Type Ward_Facility_Code  Bed Grade  patientid  City_Code_Patient  \\\n0              R                  F       2.00      31397               7.00   \n1              S                  F       2.00      31397               7.00   \n2              S                  E       2.00      31397               7.00   \n3              R                  D       2.00      31397               7.00   \n4              S                  D       2.00      31397               7.00   \n...          ...                ...        ...        ...                ...   \n318433         Q                  F       4.00      86499              23.00   \n318434         Q                  E       4.00        325               8.00   \n318435         R                  F       4.00     125235              10.00   \n318436         Q                  D       3.00      91081               8.00   \n318437         Q                  C       2.00      21641               8.00   \n\n       Type of Admission Severity of Illness  Visitors with Patient    Age  \\\n0              Emergency             Extreme                      2  51-60   \n1                 Trauma             Extreme                      2  51-60   \n2                 Trauma             Extreme                      2  51-60   \n3                 Trauma             Extreme                      2  51-60   \n4                 Trauma             Extreme                      2  51-60   \n...                  ...                 ...                    ...    ...   \n318433         Emergency            Moderate                      3  41-50   \n318434            Urgent            Moderate                      4  81-90   \n318435         Emergency               Minor                      3  71-80   \n318436            Trauma               Minor                      5  11-20   \n318437         Emergency               Minor                      2  11-20   \n\n        Admission_Deposit   Stay  \n0                 4911.00   0-10  \n1                 5954.00  41-50  \n2                 4745.00  31-40  \n3                 7272.00  41-50  \n4                 5558.00  41-50  \n...                   ...    ...  \n318433            4144.00  11-20  \n318434            6699.00  31-40  \n318435            4235.00  11-20  \n318436            3761.00  11-20  \n318437            4752.00   0-10  \n\n[318438 rows x 18 columns]",
      "text/html": "<div>\n<style scoped>\n    .dataframe tbody tr th:only-of-type {\n        vertical-align: middle;\n    }\n\n    .dataframe tbody tr th {\n        vertical-align: top;\n    }\n\n    .dataframe thead th {\n        text-align: right;\n    }\n</style>\n<table border=\"1\" class=\"dataframe\">\n  <thead>\n    <tr style=\"text-align: right;\">\n      <th></th>\n      <th>case_id</th>\n      <th>Hospital_code</th>\n      <th>Hospital_type_code</th>\n      <th>City_Code_Hospital</th>\n      <th>Hospital_region_code</th>\n      <th>Available Extra Rooms in Hospital</th>\n      <th>Department</th>\n      <th>Ward_Type</th>\n      <th>Ward_Facility_Code</th>\n      <th>Bed Grade</th>\n      <th>patientid</th>\n      <th>City_Code_Patient</th>\n      <th>Type of Admission</th>\n      <th>Severity of Illness</th>\n      <th>Visitors with Patient</th>\n      <th>Age</th>\n      <th>Admission_Deposit</th>\n      <th>Stay</th>\n    </tr>\n  </thead>\n  <tbody>\n    <tr>\n      <th>0</th>\n      <td>1</td>\n      <td>8</td>\n      <td>c</td>\n      <td>3</td>\n      <td>Z</td>\n      <td>3</td>\n      <td>radiotherapy</td>\n      <td>R</td>\n      <td>F</td>\n      <td>2.00</td>\n      <td>31397</td>\n      <td>7.00</td>\n      <td>Emergency</td>\n      <td>Extreme</td>\n      <td>2</td>\n      <td>51-60</td>\n      <td>4911.00</td>\n      <td>0-10</td>\n    </tr>\n    <tr>\n      <th>1</th>\n      <td>2</td>\n      <td>2</td>\n      <td>c</td>\n      <td>5</td>\n      <td>Z</td>\n      <td>2</td>\n      <td>radiotherapy</td>\n      <td>S</td>\n      <td>F</td>\n      <td>2.00</td>\n      <td>31397</td>\n      <td>7.00</td>\n      <td>Trauma</td>\n      <td>Extreme</td>\n      <td>2</td>\n      <td>51-60</td>\n      <td>5954.00</td>\n      <td>41-50</td>\n    </tr>\n    <tr>\n      <th>2</th>\n      <td>3</td>\n      <td>10</td>\n      <td>e</td>\n      <td>1</td>\n      <td>X</td>\n      <td>2</td>\n      <td>anesthesia</td>\n      <td>S</td>\n      <td>E</td>\n      <td>2.00</td>\n      <td>31397</td>\n      <td>7.00</td>\n      <td>Trauma</td>\n      <td>Extreme</td>\n      <td>2</td>\n      <td>51-60</td>\n      <td>4745.00</td>\n      <td>31-40</td>\n    </tr>\n    <tr>\n      <th>3</th>\n      <td>4</td>\n      <td>26</td>\n      <td>b</td>\n      <td>2</td>\n      <td>Y</td>\n      <td>2</td>\n      <td>radiotherapy</td>\n      <td>R</td>\n      <td>D</td>\n      <td>2.00</td>\n      <td>31397</td>\n      <td>7.00</td>\n      <td>Trauma</td>\n      <td>Extreme</td>\n      <td>2</td>\n      <td>51-60</td>\n      <td>7272.00</td>\n      <td>41-50</td>\n    </tr>\n    <tr>\n      <th>4</th>\n      <td>5</td>\n      <td>26</td>\n      <td>b</td>\n      <td>2</td>\n      <td>Y</td>\n      <td>2</td>\n      <td>radiotherapy</td>\n      <td>S</td>\n      <td>D</td>\n      <td>2.00</td>\n      <td>31397</td>\n      <td>7.00</td>\n      <td>Trauma</td>\n      <td>Extreme</td>\n      <td>2</td>\n      <td>51-60</td>\n      <td>5558.00</td>\n      <td>41-50</td>\n    </tr>\n    <tr>\n      <th>...</th>\n      <td>...</td>\n      <td>...</td>\n      <td>...</td>\n      <td>...</td>\n      <td>...</td>\n      <td>...</td>\n      <td>...</td>\n      <td>...</td>\n      <td>...</td>\n      <td>...</td>\n      <td>...</td>\n      <td>...</td>\n      <td>...</td>\n      <td>...</td>\n      <td>...</td>\n      <td>...</td>\n      <td>...</td>\n      <td>...</td>\n    </tr>\n    <tr>\n      <th>318433</th>\n      <td>318434</td>\n      <td>6</td>\n      <td>a</td>\n      <td>6</td>\n      <td>X</td>\n      <td>3</td>\n      <td>radiotherapy</td>\n      <td>Q</td>\n      <td>F</td>\n      <td>4.00</td>\n      <td>86499</td>\n      <td>23.00</td>\n      <td>Emergency</td>\n      <td>Moderate</td>\n      <td>3</td>\n      <td>41-50</td>\n      <td>4144.00</td>\n      <td>11-20</td>\n    </tr>\n    <tr>\n      <th>318434</th>\n      <td>318435</td>\n      <td>24</td>\n      <td>a</td>\n      <td>1</td>\n      <td>X</td>\n      <td>2</td>\n      <td>anesthesia</td>\n      <td>Q</td>\n      <td>E</td>\n      <td>4.00</td>\n      <td>325</td>\n      <td>8.00</td>\n      <td>Urgent</td>\n      <td>Moderate</td>\n      <td>4</td>\n      <td>81-90</td>\n      <td>6699.00</td>\n      <td>31-40</td>\n    </tr>\n    <tr>\n      <th>318435</th>\n      <td>318436</td>\n      <td>7</td>\n      <td>a</td>\n      <td>4</td>\n      <td>X</td>\n      <td>3</td>\n      <td>gynecology</td>\n      <td>R</td>\n      <td>F</td>\n      <td>4.00</td>\n      <td>125235</td>\n      <td>10.00</td>\n      <td>Emergency</td>\n      <td>Minor</td>\n      <td>3</td>\n      <td>71-80</td>\n      <td>4235.00</td>\n      <td>11-20</td>\n    </tr>\n    <tr>\n      <th>318436</th>\n      <td>318437</td>\n      <td>11</td>\n      <td>b</td>\n      <td>2</td>\n      <td>Y</td>\n      <td>3</td>\n      <td>anesthesia</td>\n      <td>Q</td>\n      <td>D</td>\n      <td>3.00</td>\n      <td>91081</td>\n      <td>8.00</td>\n      <td>Trauma</td>\n      <td>Minor</td>\n      <td>5</td>\n      <td>11-20</td>\n      <td>3761.00</td>\n      <td>11-20</td>\n    </tr>\n    <tr>\n      <th>318437</th>\n      <td>318438</td>\n      <td>19</td>\n      <td>a</td>\n      <td>7</td>\n      <td>Y</td>\n      <td>5</td>\n      <td>gynecology</td>\n      <td>Q</td>\n      <td>C</td>\n      <td>2.00</td>\n      <td>21641</td>\n      <td>8.00</td>\n      <td>Emergency</td>\n      <td>Minor</td>\n      <td>2</td>\n      <td>11-20</td>\n      <td>4752.00</td>\n      <td>0-10</td>\n    </tr>\n  </tbody>\n</table>\n<p>318438 rows × 18 columns</p>\n</div>"
     },
     "execution_count": 20,
     "metadata": {},
     "output_type": "execute_result"
    }
   ],
   "source": [
    "path = \"data/train_data.csv\"\n",
    "\n",
    "df_all = pd.read_csv(path) # 读取数据，根据你自己文件地址编写\n",
    "\n",
    "df_all.drop_duplicates(inplace=True) # 使用drop_duplicates去重，inplace=True对原数据集进行替换\n",
    "df_all.reset_index(drop=True, inplace=True) # 删除数据后，恢复索引\n",
    "\n",
    "df_all"
   ],
   "metadata": {
    "collapsed": false
   }
  },
  {
   "cell_type": "code",
   "execution_count": 21,
   "outputs": [
    {
     "name": "stdout",
     "output_type": "stream",
     "text": [
      "<class 'pandas.core.frame.DataFrame'>\n",
      "RangeIndex: 318438 entries, 0 to 318437\n",
      "Data columns (total 18 columns):\n",
      " #   Column                             Non-Null Count   Dtype  \n",
      "---  ------                             --------------   -----  \n",
      " 0   case_id                            318438 non-null  int64  \n",
      " 1   Hospital_code                      318438 non-null  int64  \n",
      " 2   Hospital_type_code                 318438 non-null  object \n",
      " 3   City_Code_Hospital                 318438 non-null  int64  \n",
      " 4   Hospital_region_code               318438 non-null  object \n",
      " 5   Available Extra Rooms in Hospital  318438 non-null  int64  \n",
      " 6   Department                         318438 non-null  object \n",
      " 7   Ward_Type                          318438 non-null  object \n",
      " 8   Ward_Facility_Code                 318438 non-null  object \n",
      " 9   Bed Grade                          318325 non-null  float64\n",
      " 10  patientid                          318438 non-null  int64  \n",
      " 11  City_Code_Patient                  313906 non-null  float64\n",
      " 12  Type of Admission                  318438 non-null  object \n",
      " 13  Severity of Illness                318438 non-null  object \n",
      " 14  Visitors with Patient              318438 non-null  int64  \n",
      " 15  Age                                318438 non-null  object \n",
      " 16  Admission_Deposit                  318438 non-null  float64\n",
      " 17  Stay                               318438 non-null  object \n",
      "dtypes: float64(3), int64(6), object(9)\n",
      "memory usage: 43.7+ MB\n"
     ]
    }
   ],
   "source": [
    "# 整体查看数据类型 以及缺失情况\n",
    "df_all.info()"
   ],
   "metadata": {
    "collapsed": false
   }
  },
  {
   "cell_type": "code",
   "execution_count": 22,
   "outputs": [
    {
     "name": "stdout",
     "output_type": "stream",
     "text": [
      "缺失量在20.0%以上的变量有:[]\n"
     ]
    },
    {
     "data": {
      "text/plain": "        case_id  Hospital_code Hospital_type_code  City_Code_Hospital  \\\n0             1              8                  c                   3   \n1             2              2                  c                   5   \n2             3             10                  e                   1   \n3             4             26                  b                   2   \n4             5             26                  b                   2   \n...         ...            ...                ...                 ...   \n318433   318434              6                  a                   6   \n318434   318435             24                  a                   1   \n318435   318436              7                  a                   4   \n318436   318437             11                  b                   2   \n318437   318438             19                  a                   7   \n\n       Hospital_region_code  Available Extra Rooms in Hospital    Department  \\\n0                         Z                                  3  radiotherapy   \n1                         Z                                  2  radiotherapy   \n2                         X                                  2    anesthesia   \n3                         Y                                  2  radiotherapy   \n4                         Y                                  2  radiotherapy   \n...                     ...                                ...           ...   \n318433                    X                                  3  radiotherapy   \n318434                    X                                  2    anesthesia   \n318435                    X                                  3    gynecology   \n318436                    Y                                  3    anesthesia   \n318437                    Y                                  5    gynecology   \n\n       Ward_Type Ward_Facility_Code  Bed Grade  patientid  City_Code_Patient  \\\n0              R                  F       2.00      31397               7.00   \n1              S                  F       2.00      31397               7.00   \n2              S                  E       2.00      31397               7.00   \n3              R                  D       2.00      31397               7.00   \n4              S                  D       2.00      31397               7.00   \n...          ...                ...        ...        ...                ...   \n318433         Q                  F       4.00      86499              23.00   \n318434         Q                  E       4.00        325               8.00   \n318435         R                  F       4.00     125235              10.00   \n318436         Q                  D       3.00      91081               8.00   \n318437         Q                  C       2.00      21641               8.00   \n\n       Type of Admission Severity of Illness  Visitors with Patient    Age  \\\n0              Emergency             Extreme                      2  51-60   \n1                 Trauma             Extreme                      2  51-60   \n2                 Trauma             Extreme                      2  51-60   \n3                 Trauma             Extreme                      2  51-60   \n4                 Trauma             Extreme                      2  51-60   \n...                  ...                 ...                    ...    ...   \n318433         Emergency            Moderate                      3  41-50   \n318434            Urgent            Moderate                      4  81-90   \n318435         Emergency               Minor                      3  71-80   \n318436            Trauma               Minor                      5  11-20   \n318437         Emergency               Minor                      2  11-20   \n\n        Admission_Deposit   Stay  \n0                 4911.00   0-10  \n1                 5954.00  41-50  \n2                 4745.00  31-40  \n3                 7272.00  41-50  \n4                 5558.00  41-50  \n...                   ...    ...  \n318433            4144.00  11-20  \n318434            6699.00  31-40  \n318435            4235.00  11-20  \n318436            3761.00  11-20  \n318437            4752.00   0-10  \n\n[318438 rows x 18 columns]",
      "text/html": "<div>\n<style scoped>\n    .dataframe tbody tr th:only-of-type {\n        vertical-align: middle;\n    }\n\n    .dataframe tbody tr th {\n        vertical-align: top;\n    }\n\n    .dataframe thead th {\n        text-align: right;\n    }\n</style>\n<table border=\"1\" class=\"dataframe\">\n  <thead>\n    <tr style=\"text-align: right;\">\n      <th></th>\n      <th>case_id</th>\n      <th>Hospital_code</th>\n      <th>Hospital_type_code</th>\n      <th>City_Code_Hospital</th>\n      <th>Hospital_region_code</th>\n      <th>Available Extra Rooms in Hospital</th>\n      <th>Department</th>\n      <th>Ward_Type</th>\n      <th>Ward_Facility_Code</th>\n      <th>Bed Grade</th>\n      <th>patientid</th>\n      <th>City_Code_Patient</th>\n      <th>Type of Admission</th>\n      <th>Severity of Illness</th>\n      <th>Visitors with Patient</th>\n      <th>Age</th>\n      <th>Admission_Deposit</th>\n      <th>Stay</th>\n    </tr>\n  </thead>\n  <tbody>\n    <tr>\n      <th>0</th>\n      <td>1</td>\n      <td>8</td>\n      <td>c</td>\n      <td>3</td>\n      <td>Z</td>\n      <td>3</td>\n      <td>radiotherapy</td>\n      <td>R</td>\n      <td>F</td>\n      <td>2.00</td>\n      <td>31397</td>\n      <td>7.00</td>\n      <td>Emergency</td>\n      <td>Extreme</td>\n      <td>2</td>\n      <td>51-60</td>\n      <td>4911.00</td>\n      <td>0-10</td>\n    </tr>\n    <tr>\n      <th>1</th>\n      <td>2</td>\n      <td>2</td>\n      <td>c</td>\n      <td>5</td>\n      <td>Z</td>\n      <td>2</td>\n      <td>radiotherapy</td>\n      <td>S</td>\n      <td>F</td>\n      <td>2.00</td>\n      <td>31397</td>\n      <td>7.00</td>\n      <td>Trauma</td>\n      <td>Extreme</td>\n      <td>2</td>\n      <td>51-60</td>\n      <td>5954.00</td>\n      <td>41-50</td>\n    </tr>\n    <tr>\n      <th>2</th>\n      <td>3</td>\n      <td>10</td>\n      <td>e</td>\n      <td>1</td>\n      <td>X</td>\n      <td>2</td>\n      <td>anesthesia</td>\n      <td>S</td>\n      <td>E</td>\n      <td>2.00</td>\n      <td>31397</td>\n      <td>7.00</td>\n      <td>Trauma</td>\n      <td>Extreme</td>\n      <td>2</td>\n      <td>51-60</td>\n      <td>4745.00</td>\n      <td>31-40</td>\n    </tr>\n    <tr>\n      <th>3</th>\n      <td>4</td>\n      <td>26</td>\n      <td>b</td>\n      <td>2</td>\n      <td>Y</td>\n      <td>2</td>\n      <td>radiotherapy</td>\n      <td>R</td>\n      <td>D</td>\n      <td>2.00</td>\n      <td>31397</td>\n      <td>7.00</td>\n      <td>Trauma</td>\n      <td>Extreme</td>\n      <td>2</td>\n      <td>51-60</td>\n      <td>7272.00</td>\n      <td>41-50</td>\n    </tr>\n    <tr>\n      <th>4</th>\n      <td>5</td>\n      <td>26</td>\n      <td>b</td>\n      <td>2</td>\n      <td>Y</td>\n      <td>2</td>\n      <td>radiotherapy</td>\n      <td>S</td>\n      <td>D</td>\n      <td>2.00</td>\n      <td>31397</td>\n      <td>7.00</td>\n      <td>Trauma</td>\n      <td>Extreme</td>\n      <td>2</td>\n      <td>51-60</td>\n      <td>5558.00</td>\n      <td>41-50</td>\n    </tr>\n    <tr>\n      <th>...</th>\n      <td>...</td>\n      <td>...</td>\n      <td>...</td>\n      <td>...</td>\n      <td>...</td>\n      <td>...</td>\n      <td>...</td>\n      <td>...</td>\n      <td>...</td>\n      <td>...</td>\n      <td>...</td>\n      <td>...</td>\n      <td>...</td>\n      <td>...</td>\n      <td>...</td>\n      <td>...</td>\n      <td>...</td>\n      <td>...</td>\n    </tr>\n    <tr>\n      <th>318433</th>\n      <td>318434</td>\n      <td>6</td>\n      <td>a</td>\n      <td>6</td>\n      <td>X</td>\n      <td>3</td>\n      <td>radiotherapy</td>\n      <td>Q</td>\n      <td>F</td>\n      <td>4.00</td>\n      <td>86499</td>\n      <td>23.00</td>\n      <td>Emergency</td>\n      <td>Moderate</td>\n      <td>3</td>\n      <td>41-50</td>\n      <td>4144.00</td>\n      <td>11-20</td>\n    </tr>\n    <tr>\n      <th>318434</th>\n      <td>318435</td>\n      <td>24</td>\n      <td>a</td>\n      <td>1</td>\n      <td>X</td>\n      <td>2</td>\n      <td>anesthesia</td>\n      <td>Q</td>\n      <td>E</td>\n      <td>4.00</td>\n      <td>325</td>\n      <td>8.00</td>\n      <td>Urgent</td>\n      <td>Moderate</td>\n      <td>4</td>\n      <td>81-90</td>\n      <td>6699.00</td>\n      <td>31-40</td>\n    </tr>\n    <tr>\n      <th>318435</th>\n      <td>318436</td>\n      <td>7</td>\n      <td>a</td>\n      <td>4</td>\n      <td>X</td>\n      <td>3</td>\n      <td>gynecology</td>\n      <td>R</td>\n      <td>F</td>\n      <td>4.00</td>\n      <td>125235</td>\n      <td>10.00</td>\n      <td>Emergency</td>\n      <td>Minor</td>\n      <td>3</td>\n      <td>71-80</td>\n      <td>4235.00</td>\n      <td>11-20</td>\n    </tr>\n    <tr>\n      <th>318436</th>\n      <td>318437</td>\n      <td>11</td>\n      <td>b</td>\n      <td>2</td>\n      <td>Y</td>\n      <td>3</td>\n      <td>anesthesia</td>\n      <td>Q</td>\n      <td>D</td>\n      <td>3.00</td>\n      <td>91081</td>\n      <td>8.00</td>\n      <td>Trauma</td>\n      <td>Minor</td>\n      <td>5</td>\n      <td>11-20</td>\n      <td>3761.00</td>\n      <td>11-20</td>\n    </tr>\n    <tr>\n      <th>318437</th>\n      <td>318438</td>\n      <td>19</td>\n      <td>a</td>\n      <td>7</td>\n      <td>Y</td>\n      <td>5</td>\n      <td>gynecology</td>\n      <td>Q</td>\n      <td>C</td>\n      <td>2.00</td>\n      <td>21641</td>\n      <td>8.00</td>\n      <td>Emergency</td>\n      <td>Minor</td>\n      <td>2</td>\n      <td>11-20</td>\n      <td>4752.00</td>\n      <td>0-10</td>\n    </tr>\n  </tbody>\n</table>\n<p>318438 rows × 18 columns</p>\n</div>"
     },
     "execution_count": 22,
     "metadata": {},
     "output_type": "execute_result"
    }
   ],
   "source": [
    "# 定义查找缺失变量函数，返回 缺失值率> 指定缺失率(narate) 的列表\n",
    "def filter_col_by_nan(data, narate=0.2):\n",
    "    '''\n",
    "    :param data: 查找数据集\n",
    "    :param narate: 设定变量的缺失值率，默认20%\n",
    "    :return: 返回 缺失率>narate的变量名称列表\n",
    "    '''\n",
    "    n_samples = data.shape[0]\n",
    "    list_nan_cols = []\n",
    "    for col in data.columns:\n",
    "        if data[col].isna().sum() / n_samples >= (narate):\n",
    "            list_nan_cols.append(col)\n",
    "\n",
    "    print(f'缺失量在{narate * 100}%以上的变量有:{list_nan_cols}')\n",
    "\n",
    "    return list_nan_cols\n",
    "\n",
    "list_nullfactor_todrop = filter_col_by_nan(df_all, narate=0.2)\n",
    "\n",
    "df_select = df_all.drop(list_nullfactor_todrop, axis=1).copy()\n",
    "df_select"
   ],
   "metadata": {
    "collapsed": false
   }
  },
  {
   "cell_type": "code",
   "execution_count": 23,
   "outputs": [
    {
     "data": {
      "text/plain": "        Hospital_code Hospital_type_code  City_Code_Hospital  \\\n0                   8                  c                   3   \n1                   2                  c                   5   \n2                  10                  e                   1   \n3                  26                  b                   2   \n4                  26                  b                   2   \n...               ...                ...                 ...   \n318433              6                  a                   6   \n318434             24                  a                   1   \n318435              7                  a                   4   \n318436             11                  b                   2   \n318437             19                  a                   7   \n\n       Hospital_region_code  Available Extra Rooms in Hospital    Department  \\\n0                         Z                                  3  radiotherapy   \n1                         Z                                  2  radiotherapy   \n2                         X                                  2    anesthesia   \n3                         Y                                  2  radiotherapy   \n4                         Y                                  2  radiotherapy   \n...                     ...                                ...           ...   \n318433                    X                                  3  radiotherapy   \n318434                    X                                  2    anesthesia   \n318435                    X                                  3    gynecology   \n318436                    Y                                  3    anesthesia   \n318437                    Y                                  5    gynecology   \n\n       Ward_Type Ward_Facility_Code  Bed Grade  City_Code_Patient  \\\n0              R                  F       2.00               7.00   \n1              S                  F       2.00               7.00   \n2              S                  E       2.00               7.00   \n3              R                  D       2.00               7.00   \n4              S                  D       2.00               7.00   \n...          ...                ...        ...                ...   \n318433         Q                  F       4.00              23.00   \n318434         Q                  E       4.00               8.00   \n318435         R                  F       4.00              10.00   \n318436         Q                  D       3.00               8.00   \n318437         Q                  C       2.00               8.00   \n\n       Type of Admission Severity of Illness  Visitors with Patient    Age  \\\n0              Emergency             Extreme                      2  51-60   \n1                 Trauma             Extreme                      2  51-60   \n2                 Trauma             Extreme                      2  51-60   \n3                 Trauma             Extreme                      2  51-60   \n4                 Trauma             Extreme                      2  51-60   \n...                  ...                 ...                    ...    ...   \n318433         Emergency            Moderate                      3  41-50   \n318434            Urgent            Moderate                      4  81-90   \n318435         Emergency               Minor                      3  71-80   \n318436            Trauma               Minor                      5  11-20   \n318437         Emergency               Minor                      2  11-20   \n\n        Admission_Deposit   Stay  \n0                 4911.00   0-10  \n1                 5954.00  41-50  \n2                 4745.00  31-40  \n3                 7272.00  41-50  \n4                 5558.00  41-50  \n...                   ...    ...  \n318433            4144.00  11-20  \n318434            6699.00  31-40  \n318435            4235.00  11-20  \n318436            3761.00  11-20  \n318437            4752.00   0-10  \n\n[318438 rows x 16 columns]",
      "text/html": "<div>\n<style scoped>\n    .dataframe tbody tr th:only-of-type {\n        vertical-align: middle;\n    }\n\n    .dataframe tbody tr th {\n        vertical-align: top;\n    }\n\n    .dataframe thead th {\n        text-align: right;\n    }\n</style>\n<table border=\"1\" class=\"dataframe\">\n  <thead>\n    <tr style=\"text-align: right;\">\n      <th></th>\n      <th>Hospital_code</th>\n      <th>Hospital_type_code</th>\n      <th>City_Code_Hospital</th>\n      <th>Hospital_region_code</th>\n      <th>Available Extra Rooms in Hospital</th>\n      <th>Department</th>\n      <th>Ward_Type</th>\n      <th>Ward_Facility_Code</th>\n      <th>Bed Grade</th>\n      <th>City_Code_Patient</th>\n      <th>Type of Admission</th>\n      <th>Severity of Illness</th>\n      <th>Visitors with Patient</th>\n      <th>Age</th>\n      <th>Admission_Deposit</th>\n      <th>Stay</th>\n    </tr>\n  </thead>\n  <tbody>\n    <tr>\n      <th>0</th>\n      <td>8</td>\n      <td>c</td>\n      <td>3</td>\n      <td>Z</td>\n      <td>3</td>\n      <td>radiotherapy</td>\n      <td>R</td>\n      <td>F</td>\n      <td>2.00</td>\n      <td>7.00</td>\n      <td>Emergency</td>\n      <td>Extreme</td>\n      <td>2</td>\n      <td>51-60</td>\n      <td>4911.00</td>\n      <td>0-10</td>\n    </tr>\n    <tr>\n      <th>1</th>\n      <td>2</td>\n      <td>c</td>\n      <td>5</td>\n      <td>Z</td>\n      <td>2</td>\n      <td>radiotherapy</td>\n      <td>S</td>\n      <td>F</td>\n      <td>2.00</td>\n      <td>7.00</td>\n      <td>Trauma</td>\n      <td>Extreme</td>\n      <td>2</td>\n      <td>51-60</td>\n      <td>5954.00</td>\n      <td>41-50</td>\n    </tr>\n    <tr>\n      <th>2</th>\n      <td>10</td>\n      <td>e</td>\n      <td>1</td>\n      <td>X</td>\n      <td>2</td>\n      <td>anesthesia</td>\n      <td>S</td>\n      <td>E</td>\n      <td>2.00</td>\n      <td>7.00</td>\n      <td>Trauma</td>\n      <td>Extreme</td>\n      <td>2</td>\n      <td>51-60</td>\n      <td>4745.00</td>\n      <td>31-40</td>\n    </tr>\n    <tr>\n      <th>3</th>\n      <td>26</td>\n      <td>b</td>\n      <td>2</td>\n      <td>Y</td>\n      <td>2</td>\n      <td>radiotherapy</td>\n      <td>R</td>\n      <td>D</td>\n      <td>2.00</td>\n      <td>7.00</td>\n      <td>Trauma</td>\n      <td>Extreme</td>\n      <td>2</td>\n      <td>51-60</td>\n      <td>7272.00</td>\n      <td>41-50</td>\n    </tr>\n    <tr>\n      <th>4</th>\n      <td>26</td>\n      <td>b</td>\n      <td>2</td>\n      <td>Y</td>\n      <td>2</td>\n      <td>radiotherapy</td>\n      <td>S</td>\n      <td>D</td>\n      <td>2.00</td>\n      <td>7.00</td>\n      <td>Trauma</td>\n      <td>Extreme</td>\n      <td>2</td>\n      <td>51-60</td>\n      <td>5558.00</td>\n      <td>41-50</td>\n    </tr>\n    <tr>\n      <th>...</th>\n      <td>...</td>\n      <td>...</td>\n      <td>...</td>\n      <td>...</td>\n      <td>...</td>\n      <td>...</td>\n      <td>...</td>\n      <td>...</td>\n      <td>...</td>\n      <td>...</td>\n      <td>...</td>\n      <td>...</td>\n      <td>...</td>\n      <td>...</td>\n      <td>...</td>\n      <td>...</td>\n    </tr>\n    <tr>\n      <th>318433</th>\n      <td>6</td>\n      <td>a</td>\n      <td>6</td>\n      <td>X</td>\n      <td>3</td>\n      <td>radiotherapy</td>\n      <td>Q</td>\n      <td>F</td>\n      <td>4.00</td>\n      <td>23.00</td>\n      <td>Emergency</td>\n      <td>Moderate</td>\n      <td>3</td>\n      <td>41-50</td>\n      <td>4144.00</td>\n      <td>11-20</td>\n    </tr>\n    <tr>\n      <th>318434</th>\n      <td>24</td>\n      <td>a</td>\n      <td>1</td>\n      <td>X</td>\n      <td>2</td>\n      <td>anesthesia</td>\n      <td>Q</td>\n      <td>E</td>\n      <td>4.00</td>\n      <td>8.00</td>\n      <td>Urgent</td>\n      <td>Moderate</td>\n      <td>4</td>\n      <td>81-90</td>\n      <td>6699.00</td>\n      <td>31-40</td>\n    </tr>\n    <tr>\n      <th>318435</th>\n      <td>7</td>\n      <td>a</td>\n      <td>4</td>\n      <td>X</td>\n      <td>3</td>\n      <td>gynecology</td>\n      <td>R</td>\n      <td>F</td>\n      <td>4.00</td>\n      <td>10.00</td>\n      <td>Emergency</td>\n      <td>Minor</td>\n      <td>3</td>\n      <td>71-80</td>\n      <td>4235.00</td>\n      <td>11-20</td>\n    </tr>\n    <tr>\n      <th>318436</th>\n      <td>11</td>\n      <td>b</td>\n      <td>2</td>\n      <td>Y</td>\n      <td>3</td>\n      <td>anesthesia</td>\n      <td>Q</td>\n      <td>D</td>\n      <td>3.00</td>\n      <td>8.00</td>\n      <td>Trauma</td>\n      <td>Minor</td>\n      <td>5</td>\n      <td>11-20</td>\n      <td>3761.00</td>\n      <td>11-20</td>\n    </tr>\n    <tr>\n      <th>318437</th>\n      <td>19</td>\n      <td>a</td>\n      <td>7</td>\n      <td>Y</td>\n      <td>5</td>\n      <td>gynecology</td>\n      <td>Q</td>\n      <td>C</td>\n      <td>2.00</td>\n      <td>8.00</td>\n      <td>Emergency</td>\n      <td>Minor</td>\n      <td>2</td>\n      <td>11-20</td>\n      <td>4752.00</td>\n      <td>0-10</td>\n    </tr>\n  </tbody>\n</table>\n<p>318438 rows × 16 columns</p>\n</div>"
     },
     "execution_count": 23,
     "metadata": {},
     "output_type": "execute_result"
    }
   ],
   "source": [
    "list_factor_todrop = ['case_id', 'patientid'] #不需要入模的变量列表\n",
    "\n",
    "df_select.drop(list_factor_todrop, axis=1, inplace=True)\n",
    "\n",
    "df_select"
   ],
   "metadata": {
    "collapsed": false
   }
  },
  {
   "cell_type": "code",
   "execution_count": 24,
   "outputs": [
    {
     "data": {
      "text/plain": "        Hospital_code Hospital_type_code  City_Code_Hospital  \\\n0                   8                  c                   3   \n1                   2                  c                   5   \n2                  10                  e                   1   \n3                  26                  b                   2   \n4                  26                  b                   2   \n...               ...                ...                 ...   \n313788              6                  a                   6   \n313789             24                  a                   1   \n313790              7                  a                   4   \n313791             11                  b                   2   \n313792             19                  a                   7   \n\n       Hospital_region_code  Available Extra Rooms in Hospital    Department  \\\n0                         Z                                  3  radiotherapy   \n1                         Z                                  2  radiotherapy   \n2                         X                                  2    anesthesia   \n3                         Y                                  2  radiotherapy   \n4                         Y                                  2  radiotherapy   \n...                     ...                                ...           ...   \n313788                    X                                  3  radiotherapy   \n313789                    X                                  2    anesthesia   \n313790                    X                                  3    gynecology   \n313791                    Y                                  3    anesthesia   \n313792                    Y                                  5    gynecology   \n\n       Ward_Type Ward_Facility_Code  Bed Grade  City_Code_Patient  \\\n0              R                  F       2.00               7.00   \n1              S                  F       2.00               7.00   \n2              S                  E       2.00               7.00   \n3              R                  D       2.00               7.00   \n4              S                  D       2.00               7.00   \n...          ...                ...        ...                ...   \n313788         Q                  F       4.00              23.00   \n313789         Q                  E       4.00               8.00   \n313790         R                  F       4.00              10.00   \n313791         Q                  D       3.00               8.00   \n313792         Q                  C       2.00               8.00   \n\n       Type of Admission Severity of Illness  Visitors with Patient    Age  \\\n0              Emergency             Extreme                      2  51-60   \n1                 Trauma             Extreme                      2  51-60   \n2                 Trauma             Extreme                      2  51-60   \n3                 Trauma             Extreme                      2  51-60   \n4                 Trauma             Extreme                      2  51-60   \n...                  ...                 ...                    ...    ...   \n313788         Emergency            Moderate                      3  41-50   \n313789            Urgent            Moderate                      4  81-90   \n313790         Emergency               Minor                      3  71-80   \n313791            Trauma               Minor                      5  11-20   \n313792         Emergency               Minor                      2  11-20   \n\n        Admission_Deposit   Stay  \n0                 4911.00   0-10  \n1                 5954.00  41-50  \n2                 4745.00  31-40  \n3                 7272.00  41-50  \n4                 5558.00  41-50  \n...                   ...    ...  \n313788            4144.00  11-20  \n313789            6699.00  31-40  \n313790            4235.00  11-20  \n313791            3761.00  11-20  \n313792            4752.00   0-10  \n\n[313793 rows x 16 columns]",
      "text/html": "<div>\n<style scoped>\n    .dataframe tbody tr th:only-of-type {\n        vertical-align: middle;\n    }\n\n    .dataframe tbody tr th {\n        vertical-align: top;\n    }\n\n    .dataframe thead th {\n        text-align: right;\n    }\n</style>\n<table border=\"1\" class=\"dataframe\">\n  <thead>\n    <tr style=\"text-align: right;\">\n      <th></th>\n      <th>Hospital_code</th>\n      <th>Hospital_type_code</th>\n      <th>City_Code_Hospital</th>\n      <th>Hospital_region_code</th>\n      <th>Available Extra Rooms in Hospital</th>\n      <th>Department</th>\n      <th>Ward_Type</th>\n      <th>Ward_Facility_Code</th>\n      <th>Bed Grade</th>\n      <th>City_Code_Patient</th>\n      <th>Type of Admission</th>\n      <th>Severity of Illness</th>\n      <th>Visitors with Patient</th>\n      <th>Age</th>\n      <th>Admission_Deposit</th>\n      <th>Stay</th>\n    </tr>\n  </thead>\n  <tbody>\n    <tr>\n      <th>0</th>\n      <td>8</td>\n      <td>c</td>\n      <td>3</td>\n      <td>Z</td>\n      <td>3</td>\n      <td>radiotherapy</td>\n      <td>R</td>\n      <td>F</td>\n      <td>2.00</td>\n      <td>7.00</td>\n      <td>Emergency</td>\n      <td>Extreme</td>\n      <td>2</td>\n      <td>51-60</td>\n      <td>4911.00</td>\n      <td>0-10</td>\n    </tr>\n    <tr>\n      <th>1</th>\n      <td>2</td>\n      <td>c</td>\n      <td>5</td>\n      <td>Z</td>\n      <td>2</td>\n      <td>radiotherapy</td>\n      <td>S</td>\n      <td>F</td>\n      <td>2.00</td>\n      <td>7.00</td>\n      <td>Trauma</td>\n      <td>Extreme</td>\n      <td>2</td>\n      <td>51-60</td>\n      <td>5954.00</td>\n      <td>41-50</td>\n    </tr>\n    <tr>\n      <th>2</th>\n      <td>10</td>\n      <td>e</td>\n      <td>1</td>\n      <td>X</td>\n      <td>2</td>\n      <td>anesthesia</td>\n      <td>S</td>\n      <td>E</td>\n      <td>2.00</td>\n      <td>7.00</td>\n      <td>Trauma</td>\n      <td>Extreme</td>\n      <td>2</td>\n      <td>51-60</td>\n      <td>4745.00</td>\n      <td>31-40</td>\n    </tr>\n    <tr>\n      <th>3</th>\n      <td>26</td>\n      <td>b</td>\n      <td>2</td>\n      <td>Y</td>\n      <td>2</td>\n      <td>radiotherapy</td>\n      <td>R</td>\n      <td>D</td>\n      <td>2.00</td>\n      <td>7.00</td>\n      <td>Trauma</td>\n      <td>Extreme</td>\n      <td>2</td>\n      <td>51-60</td>\n      <td>7272.00</td>\n      <td>41-50</td>\n    </tr>\n    <tr>\n      <th>4</th>\n      <td>26</td>\n      <td>b</td>\n      <td>2</td>\n      <td>Y</td>\n      <td>2</td>\n      <td>radiotherapy</td>\n      <td>S</td>\n      <td>D</td>\n      <td>2.00</td>\n      <td>7.00</td>\n      <td>Trauma</td>\n      <td>Extreme</td>\n      <td>2</td>\n      <td>51-60</td>\n      <td>5558.00</td>\n      <td>41-50</td>\n    </tr>\n    <tr>\n      <th>...</th>\n      <td>...</td>\n      <td>...</td>\n      <td>...</td>\n      <td>...</td>\n      <td>...</td>\n      <td>...</td>\n      <td>...</td>\n      <td>...</td>\n      <td>...</td>\n      <td>...</td>\n      <td>...</td>\n      <td>...</td>\n      <td>...</td>\n      <td>...</td>\n      <td>...</td>\n      <td>...</td>\n    </tr>\n    <tr>\n      <th>313788</th>\n      <td>6</td>\n      <td>a</td>\n      <td>6</td>\n      <td>X</td>\n      <td>3</td>\n      <td>radiotherapy</td>\n      <td>Q</td>\n      <td>F</td>\n      <td>4.00</td>\n      <td>23.00</td>\n      <td>Emergency</td>\n      <td>Moderate</td>\n      <td>3</td>\n      <td>41-50</td>\n      <td>4144.00</td>\n      <td>11-20</td>\n    </tr>\n    <tr>\n      <th>313789</th>\n      <td>24</td>\n      <td>a</td>\n      <td>1</td>\n      <td>X</td>\n      <td>2</td>\n      <td>anesthesia</td>\n      <td>Q</td>\n      <td>E</td>\n      <td>4.00</td>\n      <td>8.00</td>\n      <td>Urgent</td>\n      <td>Moderate</td>\n      <td>4</td>\n      <td>81-90</td>\n      <td>6699.00</td>\n      <td>31-40</td>\n    </tr>\n    <tr>\n      <th>313790</th>\n      <td>7</td>\n      <td>a</td>\n      <td>4</td>\n      <td>X</td>\n      <td>3</td>\n      <td>gynecology</td>\n      <td>R</td>\n      <td>F</td>\n      <td>4.00</td>\n      <td>10.00</td>\n      <td>Emergency</td>\n      <td>Minor</td>\n      <td>3</td>\n      <td>71-80</td>\n      <td>4235.00</td>\n      <td>11-20</td>\n    </tr>\n    <tr>\n      <th>313791</th>\n      <td>11</td>\n      <td>b</td>\n      <td>2</td>\n      <td>Y</td>\n      <td>3</td>\n      <td>anesthesia</td>\n      <td>Q</td>\n      <td>D</td>\n      <td>3.00</td>\n      <td>8.00</td>\n      <td>Trauma</td>\n      <td>Minor</td>\n      <td>5</td>\n      <td>11-20</td>\n      <td>3761.00</td>\n      <td>11-20</td>\n    </tr>\n    <tr>\n      <th>313792</th>\n      <td>19</td>\n      <td>a</td>\n      <td>7</td>\n      <td>Y</td>\n      <td>5</td>\n      <td>gynecology</td>\n      <td>Q</td>\n      <td>C</td>\n      <td>2.00</td>\n      <td>8.00</td>\n      <td>Emergency</td>\n      <td>Minor</td>\n      <td>2</td>\n      <td>11-20</td>\n      <td>4752.00</td>\n      <td>0-10</td>\n    </tr>\n  </tbody>\n</table>\n<p>313793 rows × 16 columns</p>\n</div>"
     },
     "execution_count": 24,
     "metadata": {},
     "output_type": "execute_result"
    }
   ],
   "source": [
    "# 定义函数，返回离散型函数变量名列表, 并查看映射值数量情况\n",
    "def get_objectfac_list(data ,print_value=False):\n",
    "    lt_discrete = []\n",
    "    for col in data.columns:\n",
    "        if str(data[col].dtype) == 'object':\n",
    "            lt_discrete.append(col)\n",
    "            if print_value == True:\n",
    "                print(data[col].value_counts())\n",
    "                print(f'-' * 50)\n",
    "    return lt_discrete\n",
    "\n",
    "\n",
    "#list_discrete = get_objectfac_list(df_select,False)\n",
    "\n",
    "# 情况3，删除离散型变量，有空值的行\n",
    "df_select.dropna(axis=0,inplace=True)\n",
    "df_select.reset_index(drop=True, inplace=True)\n",
    "\n",
    "df_select"
   ],
   "metadata": {
    "collapsed": false
   }
  },
  {
   "cell_type": "code",
   "execution_count": 25,
   "outputs": [
    {
     "data": {
      "text/plain": "        Hospital_code Hospital_type_code  City_Code_Hospital  \\\n0                   8                  c                   3   \n1                   2                  c                   5   \n2                  10                  e                   1   \n3                  26                  b                   2   \n4                  26                  b                   2   \n...               ...                ...                 ...   \n313788              6                  a                   6   \n313789             24                  a                   1   \n313790              7                  a                   4   \n313791             11                  b                   2   \n313792             19                  a                   7   \n\n       Hospital_region_code  Available Extra Rooms in Hospital    Department  \\\n0                         Z                                  3  radiotherapy   \n1                         Z                                  2  radiotherapy   \n2                         X                                  2    anesthesia   \n3                         Y                                  2  radiotherapy   \n4                         Y                                  2  radiotherapy   \n...                     ...                                ...           ...   \n313788                    X                                  3  radiotherapy   \n313789                    X                                  2    anesthesia   \n313790                    X                                  3    gynecology   \n313791                    Y                                  3    anesthesia   \n313792                    Y                                  5    gynecology   \n\n       Ward_Type Ward_Facility_Code  Bed Grade  City_Code_Patient  \\\n0              R                  F       2.00               7.00   \n1              S                  F       2.00               7.00   \n2              S                  E       2.00               7.00   \n3              R                  D       2.00               7.00   \n4              S                  D       2.00               7.00   \n...          ...                ...        ...                ...   \n313788         Q                  F       4.00              23.00   \n313789         Q                  E       4.00               8.00   \n313790         R                  F       4.00              10.00   \n313791         Q                  D       3.00               8.00   \n313792         Q                  C       2.00               8.00   \n\n       Type of Admission Severity of Illness  Visitors with Patient    Age  \\\n0              Emergency             Extreme                      2  51-60   \n1                 Trauma             Extreme                      2  51-60   \n2                 Trauma             Extreme                      2  51-60   \n3                 Trauma             Extreme                      2  51-60   \n4                 Trauma             Extreme                      2  51-60   \n...                  ...                 ...                    ...    ...   \n313788         Emergency            Moderate                      3  41-50   \n313789            Urgent            Moderate                      4  81-90   \n313790         Emergency               Minor                      3  71-80   \n313791            Trauma               Minor                      5  11-20   \n313792         Emergency               Minor                      2  11-20   \n\n        Admission_Deposit   Stay  \n0                 4911.00   0-10  \n1                 5954.00  41-50  \n2                 4745.00  31-40  \n3                 7272.00  41-50  \n4                 5558.00  41-50  \n...                   ...    ...  \n313788            4144.00  11-20  \n313789            6699.00  31-40  \n313790            4235.00  11-20  \n313791            3761.00  11-20  \n313792            4752.00   0-10  \n\n[313793 rows x 16 columns]",
      "text/html": "<div>\n<style scoped>\n    .dataframe tbody tr th:only-of-type {\n        vertical-align: middle;\n    }\n\n    .dataframe tbody tr th {\n        vertical-align: top;\n    }\n\n    .dataframe thead th {\n        text-align: right;\n    }\n</style>\n<table border=\"1\" class=\"dataframe\">\n  <thead>\n    <tr style=\"text-align: right;\">\n      <th></th>\n      <th>Hospital_code</th>\n      <th>Hospital_type_code</th>\n      <th>City_Code_Hospital</th>\n      <th>Hospital_region_code</th>\n      <th>Available Extra Rooms in Hospital</th>\n      <th>Department</th>\n      <th>Ward_Type</th>\n      <th>Ward_Facility_Code</th>\n      <th>Bed Grade</th>\n      <th>City_Code_Patient</th>\n      <th>Type of Admission</th>\n      <th>Severity of Illness</th>\n      <th>Visitors with Patient</th>\n      <th>Age</th>\n      <th>Admission_Deposit</th>\n      <th>Stay</th>\n    </tr>\n  </thead>\n  <tbody>\n    <tr>\n      <th>0</th>\n      <td>8</td>\n      <td>c</td>\n      <td>3</td>\n      <td>Z</td>\n      <td>3</td>\n      <td>radiotherapy</td>\n      <td>R</td>\n      <td>F</td>\n      <td>2.00</td>\n      <td>7.00</td>\n      <td>Emergency</td>\n      <td>Extreme</td>\n      <td>2</td>\n      <td>51-60</td>\n      <td>4911.00</td>\n      <td>0-10</td>\n    </tr>\n    <tr>\n      <th>1</th>\n      <td>2</td>\n      <td>c</td>\n      <td>5</td>\n      <td>Z</td>\n      <td>2</td>\n      <td>radiotherapy</td>\n      <td>S</td>\n      <td>F</td>\n      <td>2.00</td>\n      <td>7.00</td>\n      <td>Trauma</td>\n      <td>Extreme</td>\n      <td>2</td>\n      <td>51-60</td>\n      <td>5954.00</td>\n      <td>41-50</td>\n    </tr>\n    <tr>\n      <th>2</th>\n      <td>10</td>\n      <td>e</td>\n      <td>1</td>\n      <td>X</td>\n      <td>2</td>\n      <td>anesthesia</td>\n      <td>S</td>\n      <td>E</td>\n      <td>2.00</td>\n      <td>7.00</td>\n      <td>Trauma</td>\n      <td>Extreme</td>\n      <td>2</td>\n      <td>51-60</td>\n      <td>4745.00</td>\n      <td>31-40</td>\n    </tr>\n    <tr>\n      <th>3</th>\n      <td>26</td>\n      <td>b</td>\n      <td>2</td>\n      <td>Y</td>\n      <td>2</td>\n      <td>radiotherapy</td>\n      <td>R</td>\n      <td>D</td>\n      <td>2.00</td>\n      <td>7.00</td>\n      <td>Trauma</td>\n      <td>Extreme</td>\n      <td>2</td>\n      <td>51-60</td>\n      <td>7272.00</td>\n      <td>41-50</td>\n    </tr>\n    <tr>\n      <th>4</th>\n      <td>26</td>\n      <td>b</td>\n      <td>2</td>\n      <td>Y</td>\n      <td>2</td>\n      <td>radiotherapy</td>\n      <td>S</td>\n      <td>D</td>\n      <td>2.00</td>\n      <td>7.00</td>\n      <td>Trauma</td>\n      <td>Extreme</td>\n      <td>2</td>\n      <td>51-60</td>\n      <td>5558.00</td>\n      <td>41-50</td>\n    </tr>\n    <tr>\n      <th>...</th>\n      <td>...</td>\n      <td>...</td>\n      <td>...</td>\n      <td>...</td>\n      <td>...</td>\n      <td>...</td>\n      <td>...</td>\n      <td>...</td>\n      <td>...</td>\n      <td>...</td>\n      <td>...</td>\n      <td>...</td>\n      <td>...</td>\n      <td>...</td>\n      <td>...</td>\n      <td>...</td>\n    </tr>\n    <tr>\n      <th>313788</th>\n      <td>6</td>\n      <td>a</td>\n      <td>6</td>\n      <td>X</td>\n      <td>3</td>\n      <td>radiotherapy</td>\n      <td>Q</td>\n      <td>F</td>\n      <td>4.00</td>\n      <td>23.00</td>\n      <td>Emergency</td>\n      <td>Moderate</td>\n      <td>3</td>\n      <td>41-50</td>\n      <td>4144.00</td>\n      <td>11-20</td>\n    </tr>\n    <tr>\n      <th>313789</th>\n      <td>24</td>\n      <td>a</td>\n      <td>1</td>\n      <td>X</td>\n      <td>2</td>\n      <td>anesthesia</td>\n      <td>Q</td>\n      <td>E</td>\n      <td>4.00</td>\n      <td>8.00</td>\n      <td>Urgent</td>\n      <td>Moderate</td>\n      <td>4</td>\n      <td>81-90</td>\n      <td>6699.00</td>\n      <td>31-40</td>\n    </tr>\n    <tr>\n      <th>313790</th>\n      <td>7</td>\n      <td>a</td>\n      <td>4</td>\n      <td>X</td>\n      <td>3</td>\n      <td>gynecology</td>\n      <td>R</td>\n      <td>F</td>\n      <td>4.00</td>\n      <td>10.00</td>\n      <td>Emergency</td>\n      <td>Minor</td>\n      <td>3</td>\n      <td>71-80</td>\n      <td>4235.00</td>\n      <td>11-20</td>\n    </tr>\n    <tr>\n      <th>313791</th>\n      <td>11</td>\n      <td>b</td>\n      <td>2</td>\n      <td>Y</td>\n      <td>3</td>\n      <td>anesthesia</td>\n      <td>Q</td>\n      <td>D</td>\n      <td>3.00</td>\n      <td>8.00</td>\n      <td>Trauma</td>\n      <td>Minor</td>\n      <td>5</td>\n      <td>11-20</td>\n      <td>3761.00</td>\n      <td>11-20</td>\n    </tr>\n    <tr>\n      <th>313792</th>\n      <td>19</td>\n      <td>a</td>\n      <td>7</td>\n      <td>Y</td>\n      <td>5</td>\n      <td>gynecology</td>\n      <td>Q</td>\n      <td>C</td>\n      <td>2.00</td>\n      <td>8.00</td>\n      <td>Emergency</td>\n      <td>Minor</td>\n      <td>2</td>\n      <td>11-20</td>\n      <td>4752.00</td>\n      <td>0-10</td>\n    </tr>\n  </tbody>\n</table>\n<p>313793 rows × 16 columns</p>\n</div>"
     },
     "execution_count": 25,
     "metadata": {},
     "output_type": "execute_result"
    }
   ],
   "source": [
    "# 需要对数据进行划分\n",
    "\n",
    "# ① 取数值、连续类型的数据\n",
    "list_train_num = ['Available Extra Rooms in Hospital','Visitors with Patient','Admission_Deposit']\n",
    "\n",
    "# ②取文本/离散、无需独热编码 类型的数据（类似 住宅类型、就业类型 等字段）\n",
    "list_train_str = ['Bed Grade','Type of Admission','Type of Admission','Age','Stay']\n",
    "\n",
    "# ③取文本/离散、需 独热编码 类型的数据（类似 教育水平分类 等变量）\n",
    "list_train_str_needtrf = ['Hospital_code','Hospital_type_code','City_Code_Hospital','Hospital_region_code','Department','Ward_Type','Ward_Facility_Code','City_Code_Patient','Type of Admission','Severity of Illness']\n",
    "\n",
    "# 查看训练集空值情况（此时只剩数值型空值，其他类型的数据都被处理了）\n",
    "df_select[df_select.isnull().any(axis=1)].head()\n",
    "df_select"
   ],
   "metadata": {
    "collapsed": false
   }
  },
  {
   "cell_type": "code",
   "execution_count": 26,
   "outputs": [],
   "source": [
    "# 数据清洗函数定义\n",
    "from sklearn.impute import SimpleImputer\n",
    "from sklearn.base import BaseEstimator, TransformerMixin\n",
    "from sklearn.preprocessing import LabelEncoder\n",
    "from sklearn.preprocessing import LabelBinarizer\n",
    "from sklearn.utils import check_array\n",
    "from scipy import sparse\n",
    "\n",
    "\n",
    "class CategoricalEncoder(BaseEstimator, TransformerMixin):\n",
    "    \"\"\"将分类特征编码为数字数组。\n",
    "    此函数输入 分类的整数矩阵 或 字符串矩阵,\n",
    "    将把分类（离散）特征所具有的值转化为数组\n",
    "\n",
    "    \"\"\"\n",
    "\n",
    "    def __init__(self, encoding='onehot', categories='auto', dtype=np.float64,\n",
    "                 handle_unknown='error'):\n",
    "        self.encoding = encoding\n",
    "        self.categories = categories\n",
    "        self.dtype = dtype\n",
    "        self.handle_unknown = handle_unknown\n",
    "\n",
    "    def fit(self, X, y=None):\n",
    "        \"\"\"Fit the CategoricalEncoder to X.\n",
    "        Parameters\n",
    "        ----------\n",
    "        X : array-like, shape [n_samples, n_feature]\n",
    "            The data to determine the categories of each feature.\n",
    "        Returns\n",
    "        -------\n",
    "        self\n",
    "        \"\"\"\n",
    "\n",
    "        # 报错预警\n",
    "        if self.encoding not in ['onehot', 'onehot-dense', 'ordinal']:\n",
    "            template = (\"encoding should be either 'onehot', 'onehot-dense' \"\n",
    "                        \"or 'ordinal', got %s\")\n",
    "            raise ValueError(template % self.handle_unknown)\n",
    "\n",
    "        if self.handle_unknown not in ['error', 'ignore']:\n",
    "            template = (\"handle_unknown should be either 'error' or \"\n",
    "                        \"'ignore', got %s\")\n",
    "            raise ValueError(template % self.handle_unknown)\n",
    "\n",
    "        if self.encoding == 'ordinal' and self.handle_unknown == 'ignore':\n",
    "            raise ValueError(\"handle_unknown='ignore' is not supported for\"\n",
    "                             \" encoding='ordinal'\")\n",
    "\n",
    "        X = check_array(X, dtype=np.object, accept_sparse='csc', copy=True)\n",
    "        n_samples, n_features = X.shape # n_samples 样本数，n_features 特征数\n",
    "\n",
    "        self._label_encoders_ = [LabelEncoder() for n_f in range(n_features)]\n",
    "\n",
    "        for i in range(n_features):\n",
    "            le = self._label_encoders_[i]\n",
    "            Xi = X[:, i]\n",
    "            if self.categories == 'auto':\n",
    "                le.fit(Xi)\n",
    "            else:\n",
    "                valid_mask = np.in1d(Xi, self.categories[i])\n",
    "                if not np.all(valid_mask):\n",
    "                    if self.handle_unknown == 'error':\n",
    "                        diff = np.unique(Xi[~valid_mask])\n",
    "                        msg = (\"Found unknown categories {0} in column {1}\"\n",
    "                               \" during fit\".format(diff, i))\n",
    "                        raise ValueError(msg)\n",
    "                le.classes_ = np.array(np.sort(self.categories[i]))\n",
    "\n",
    "        self.categories_ = [le.classes_ for le in self._label_encoders_]\n",
    "\n",
    "        return self\n",
    "\n",
    "    def transform(self, X):\n",
    "        \"\"\"Transform X using one-hot encoding.\n",
    "        Parameters\n",
    "        ----------\n",
    "        X : array-like, shape [n_samples, n_features]\n",
    "            The data to encode.\n",
    "        Returns\n",
    "        -------\n",
    "        X_out : sparse matrix or a 2-d array\n",
    "            Transformed input.\n",
    "        \"\"\"\n",
    "        X = check_array(X, accept_sparse='csc', dtype=np.object, copy=True)\n",
    "        n_samples, n_features = X.shape\n",
    "\n",
    "\n",
    "        X_int = np.zeros_like(X, dtype=np.int) # 构建一个和 X 维度相同的(一毛一样)  整数零矩阵\n",
    "        X_mask = np.ones_like(X, dtype=np.bool) # 构建一个和 X 维度相同的(一毛一样)   布尔矩阵\n",
    "\n",
    "        for i in range(n_features): # 对每个变量开始循环\n",
    "            valid_mask = np.in1d(X[:, i], self.categories_[i]) # 每个变量的每一行，去验证是否是是此变量unqiue中的一个，是返回True\n",
    "\n",
    "            if not np.all(valid_mask):\n",
    "                if self.handle_unknown == 'error':\n",
    "                    diff = np.unique(X[~valid_mask, i])\n",
    "                    msg = (\"Found unknown categories {0} in column {1}\"\n",
    "                           \" during transform\".format(diff, i))\n",
    "                    raise ValueError(msg)\n",
    "                else:\n",
    "                    # Set the problematic rows to an acceptable value and\n",
    "                    # continue `The rows are marked `X_mask` and will be\n",
    "                    # removed later.\n",
    "                    X_mask[:, i] = valid_mask # unique矩阵赋予X_mask\n",
    "                    X[:, i][~valid_mask] = self.categories_[i][0]\n",
    "            X_int[:, i] = self._label_encoders_[i].transform(X[:, i])\n",
    "\n",
    "        if self.encoding == 'ordinal':\n",
    "            return X_int.astype(self.dtype, copy=False)\n",
    "\n",
    "        mask = X_mask.ravel() # .ravel()将矩阵向量化\n",
    "\n",
    "        n_values = [cats.shape[0] for cats in self.categories_]\n",
    "\n",
    "        n_values = np.array([0] + n_values)\n",
    "        indices = np.cumsum(n_values)\n",
    "\n",
    "        column_indices = (X_int + indices[:-1]).ravel()[mask] # 找到该变量某个离散值中的所有的列索引\n",
    "        row_indices = np.repeat(np.arange(n_samples, dtype=np.int32),\n",
    "                                n_features)[mask]\n",
    "        data = np.ones(n_samples * n_features)[mask]\n",
    "\n",
    "\n",
    "        out = sparse.csc_matrix((data, (row_indices, column_indices)),\n",
    "                                shape=(n_samples, indices[-1]),\n",
    "                                dtype=self.dtype).tocsr()\n",
    "        # out = out[:,1:] # 这里为one_hot,如果要转换成哑变量需要将状态进行k-1删除，防止虚拟陷阱！\n",
    "\n",
    "        if self.encoding == 'onehot-dense':\n",
    "            return out.toarray()\n",
    "        else:\n",
    "            return out"
   ],
   "metadata": {
    "collapsed": false
   }
  },
  {
   "cell_type": "code",
   "execution_count": 27,
   "outputs": [],
   "source": [
    "class DataFrameSelector(BaseEstimator, TransformerMixin):\n",
    "    def __init__(self, attribute_names):\n",
    "        self.attribute_names = attribute_names\n",
    "    def fit(self, X, y=None):\n",
    "        return self\n",
    "    def transform(self, X):\n",
    "        return X[self.attribute_names].values"
   ],
   "metadata": {
    "collapsed": false
   }
  },
  {
   "cell_type": "code",
   "execution_count": 28,
   "outputs": [],
   "source": [
    "class ExeLabelEncoder(BaseEstimator, TransformerMixin):\n",
    "    def __init__(self):\n",
    "        self._stretltype = 1\n",
    "\n",
    "    def fit(self, X, y=None):\n",
    "        return self\n",
    "\n",
    "    def transform(self, X):\n",
    "\n",
    "        encoder = LabelEncoder()\n",
    "        n_samples, n_features = X.shape\n",
    "        arr = np.zeros_like(X, dtype=np.int)\n",
    "\n",
    "        for whlist in range(X.shape[1]):\n",
    "            arr[:, whlist] = encoder.fit_transform(X[:, whlist])\n",
    "        return arr"
   ],
   "metadata": {
    "collapsed": false
   }
  },
  {
   "cell_type": "code",
   "execution_count": 29,
   "outputs": [],
   "source": [
    "from sklearn.model_selection import train_test_split\n",
    "\n",
    "# 如果为监督学习则需要复制标签，如果无监督学习则不需要下方复制标签的代码\n",
    "df_select_labels = df_select[\"Stay\"].copy() # 复制标签"
   ],
   "metadata": {
    "collapsed": false
   }
  },
  {
   "cell_type": "code",
   "execution_count": 30,
   "outputs": [],
   "source": [
    "\n",
    "# 30%数据做测试集\n",
    "Xtrain, Xtest, Ytrain, Ytest = train_test_split(df_select, df_select_labels, test_size=0.3, random_state=42)"
   ],
   "metadata": {
    "collapsed": false
   }
  },
  {
   "cell_type": "code",
   "execution_count": 31,
   "outputs": [
    {
     "data": {
      "text/plain": "        Hospital_code Hospital_type_code  City_Code_Hospital  \\\n291956              3                  c                   3   \n74686              28                  b                  11   \n255553             23                  a                   6   \n23023              29                  a                   4   \n290082             22                  g                   9   \n...               ...                ...                 ...   \n119879             19                  a                   7   \n259178             26                  b                   2   \n131932             12                  a                   9   \n146867             32                  f                   9   \n121958             32                  f                   9   \n\n       Hospital_region_code  Available Extra Rooms in Hospital    Department  \\\n291956                    Z                                  6  radiotherapy   \n74686                     X                                  2    gynecology   \n255553                    X                                  2  radiotherapy   \n23023                     X                                  4    gynecology   \n290082                    Y                                  6    gynecology   \n...                     ...                                ...           ...   \n119879                    Y                                  2    gynecology   \n259178                    Y                                  3    gynecology   \n131932                    Y                                  4  radiotherapy   \n146867                    Y                                  3    gynecology   \n121958                    Y                                  3    gynecology   \n\n       Ward_Type Ward_Facility_Code  Bed Grade  City_Code_Patient  \\\n291956         Q                  A       3.00               6.00   \n74686          R                  F       1.00               2.00   \n255553         R                  F       3.00               4.00   \n23023          S                  F       2.00               2.00   \n290082         R                  B       3.00              14.00   \n...          ...                ...        ...                ...   \n119879         S                  C       2.00               8.00   \n259178         R                  D       3.00               7.00   \n131932         R                  B       3.00              23.00   \n146867         S                  B       3.00               9.00   \n121958         S                  B       3.00               5.00   \n\n       Type of Admission Severity of Illness  Visitors with Patient    Age  \\\n291956         Emergency            Moderate                     10  51-60   \n74686             Urgent             Extreme                      3  41-50   \n255553            Trauma               Minor                      2  61-70   \n23023             Trauma            Moderate                      4  31-40   \n290082            Trauma            Moderate                      2  51-60   \n...                  ...                 ...                    ...    ...   \n119879         Emergency            Moderate                     10  41-50   \n259178            Trauma               Minor                      5  21-30   \n131932         Emergency            Moderate                      6  41-50   \n146867         Emergency               Minor                      2  11-20   \n121958            Trauma            Moderate                      3  41-50   \n\n        Admission_Deposit                Stay  \n291956            2903.00               51-60  \n74686             4530.00               31-40  \n255553            4469.00               11-20  \n23023             6094.00              91-100  \n290082            5981.00               11-20  \n...                   ...                 ...  \n119879            3396.00  More than 100 Days  \n259178            5619.00               71-80  \n131932            8046.00               61-70  \n146867            5441.00               11-20  \n121958            5682.00               31-40  \n\n[219655 rows x 16 columns]",
      "text/html": "<div>\n<style scoped>\n    .dataframe tbody tr th:only-of-type {\n        vertical-align: middle;\n    }\n\n    .dataframe tbody tr th {\n        vertical-align: top;\n    }\n\n    .dataframe thead th {\n        text-align: right;\n    }\n</style>\n<table border=\"1\" class=\"dataframe\">\n  <thead>\n    <tr style=\"text-align: right;\">\n      <th></th>\n      <th>Hospital_code</th>\n      <th>Hospital_type_code</th>\n      <th>City_Code_Hospital</th>\n      <th>Hospital_region_code</th>\n      <th>Available Extra Rooms in Hospital</th>\n      <th>Department</th>\n      <th>Ward_Type</th>\n      <th>Ward_Facility_Code</th>\n      <th>Bed Grade</th>\n      <th>City_Code_Patient</th>\n      <th>Type of Admission</th>\n      <th>Severity of Illness</th>\n      <th>Visitors with Patient</th>\n      <th>Age</th>\n      <th>Admission_Deposit</th>\n      <th>Stay</th>\n    </tr>\n  </thead>\n  <tbody>\n    <tr>\n      <th>291956</th>\n      <td>3</td>\n      <td>c</td>\n      <td>3</td>\n      <td>Z</td>\n      <td>6</td>\n      <td>radiotherapy</td>\n      <td>Q</td>\n      <td>A</td>\n      <td>3.00</td>\n      <td>6.00</td>\n      <td>Emergency</td>\n      <td>Moderate</td>\n      <td>10</td>\n      <td>51-60</td>\n      <td>2903.00</td>\n      <td>51-60</td>\n    </tr>\n    <tr>\n      <th>74686</th>\n      <td>28</td>\n      <td>b</td>\n      <td>11</td>\n      <td>X</td>\n      <td>2</td>\n      <td>gynecology</td>\n      <td>R</td>\n      <td>F</td>\n      <td>1.00</td>\n      <td>2.00</td>\n      <td>Urgent</td>\n      <td>Extreme</td>\n      <td>3</td>\n      <td>41-50</td>\n      <td>4530.00</td>\n      <td>31-40</td>\n    </tr>\n    <tr>\n      <th>255553</th>\n      <td>23</td>\n      <td>a</td>\n      <td>6</td>\n      <td>X</td>\n      <td>2</td>\n      <td>radiotherapy</td>\n      <td>R</td>\n      <td>F</td>\n      <td>3.00</td>\n      <td>4.00</td>\n      <td>Trauma</td>\n      <td>Minor</td>\n      <td>2</td>\n      <td>61-70</td>\n      <td>4469.00</td>\n      <td>11-20</td>\n    </tr>\n    <tr>\n      <th>23023</th>\n      <td>29</td>\n      <td>a</td>\n      <td>4</td>\n      <td>X</td>\n      <td>4</td>\n      <td>gynecology</td>\n      <td>S</td>\n      <td>F</td>\n      <td>2.00</td>\n      <td>2.00</td>\n      <td>Trauma</td>\n      <td>Moderate</td>\n      <td>4</td>\n      <td>31-40</td>\n      <td>6094.00</td>\n      <td>91-100</td>\n    </tr>\n    <tr>\n      <th>290082</th>\n      <td>22</td>\n      <td>g</td>\n      <td>9</td>\n      <td>Y</td>\n      <td>6</td>\n      <td>gynecology</td>\n      <td>R</td>\n      <td>B</td>\n      <td>3.00</td>\n      <td>14.00</td>\n      <td>Trauma</td>\n      <td>Moderate</td>\n      <td>2</td>\n      <td>51-60</td>\n      <td>5981.00</td>\n      <td>11-20</td>\n    </tr>\n    <tr>\n      <th>...</th>\n      <td>...</td>\n      <td>...</td>\n      <td>...</td>\n      <td>...</td>\n      <td>...</td>\n      <td>...</td>\n      <td>...</td>\n      <td>...</td>\n      <td>...</td>\n      <td>...</td>\n      <td>...</td>\n      <td>...</td>\n      <td>...</td>\n      <td>...</td>\n      <td>...</td>\n      <td>...</td>\n    </tr>\n    <tr>\n      <th>119879</th>\n      <td>19</td>\n      <td>a</td>\n      <td>7</td>\n      <td>Y</td>\n      <td>2</td>\n      <td>gynecology</td>\n      <td>S</td>\n      <td>C</td>\n      <td>2.00</td>\n      <td>8.00</td>\n      <td>Emergency</td>\n      <td>Moderate</td>\n      <td>10</td>\n      <td>41-50</td>\n      <td>3396.00</td>\n      <td>More than 100 Days</td>\n    </tr>\n    <tr>\n      <th>259178</th>\n      <td>26</td>\n      <td>b</td>\n      <td>2</td>\n      <td>Y</td>\n      <td>3</td>\n      <td>gynecology</td>\n      <td>R</td>\n      <td>D</td>\n      <td>3.00</td>\n      <td>7.00</td>\n      <td>Trauma</td>\n      <td>Minor</td>\n      <td>5</td>\n      <td>21-30</td>\n      <td>5619.00</td>\n      <td>71-80</td>\n    </tr>\n    <tr>\n      <th>131932</th>\n      <td>12</td>\n      <td>a</td>\n      <td>9</td>\n      <td>Y</td>\n      <td>4</td>\n      <td>radiotherapy</td>\n      <td>R</td>\n      <td>B</td>\n      <td>3.00</td>\n      <td>23.00</td>\n      <td>Emergency</td>\n      <td>Moderate</td>\n      <td>6</td>\n      <td>41-50</td>\n      <td>8046.00</td>\n      <td>61-70</td>\n    </tr>\n    <tr>\n      <th>146867</th>\n      <td>32</td>\n      <td>f</td>\n      <td>9</td>\n      <td>Y</td>\n      <td>3</td>\n      <td>gynecology</td>\n      <td>S</td>\n      <td>B</td>\n      <td>3.00</td>\n      <td>9.00</td>\n      <td>Emergency</td>\n      <td>Minor</td>\n      <td>2</td>\n      <td>11-20</td>\n      <td>5441.00</td>\n      <td>11-20</td>\n    </tr>\n    <tr>\n      <th>121958</th>\n      <td>32</td>\n      <td>f</td>\n      <td>9</td>\n      <td>Y</td>\n      <td>3</td>\n      <td>gynecology</td>\n      <td>S</td>\n      <td>B</td>\n      <td>3.00</td>\n      <td>5.00</td>\n      <td>Trauma</td>\n      <td>Moderate</td>\n      <td>3</td>\n      <td>41-50</td>\n      <td>5682.00</td>\n      <td>31-40</td>\n    </tr>\n  </tbody>\n</table>\n<p>219655 rows × 16 columns</p>\n</div>"
     },
     "execution_count": 31,
     "metadata": {},
     "output_type": "execute_result"
    }
   ],
   "source": [
    "Xtrain"
   ],
   "metadata": {
    "collapsed": false
   }
  },
  {
   "cell_type": "code",
   "execution_count": 32,
   "outputs": [
    {
     "data": {
      "text/plain": "        Hospital_code Hospital_type_code  City_Code_Hospital  \\\n106277              6                  a                   6   \n48909              10                  e                   1   \n109603             11                  b                   2   \n9061               30                  c                   3   \n172242             30                  c                   3   \n...               ...                ...                 ...   \n58777              14                  a                   1   \n23646              28                  b                  11   \n232739             23                  a                   6   \n204119             14                  a                   1   \n10039              25                  e                   1   \n\n       Hospital_region_code  Available Extra Rooms in Hospital  \\\n106277                    X                                  4   \n48909                     X                                  3   \n109603                    Y                                  4   \n9061                      Z                                  3   \n172242                    Z                                  4   \n...                     ...                                ...   \n58777                     X                                  2   \n23646                     X                                  2   \n232739                    X                                  5   \n204119                    X                                  4   \n10039                     X                                  4   \n\n                Department Ward_Type Ward_Facility_Code  Bed Grade  \\\n106277          gynecology         Q                  F       2.00   \n48909           gynecology         S                  E       1.00   \n109603          gynecology         Q                  D       2.00   \n9061    TB & Chest disease         R                  A       3.00   \n172242          gynecology         Q                  A       2.00   \n...                    ...       ...                ...        ...   \n58777           gynecology         S                  E       3.00   \n23646           gynecology         R                  F       2.00   \n232739          gynecology         Q                  F       3.00   \n204119          gynecology         Q                  E       3.00   \n10039           gynecology         R                  E       4.00   \n\n        City_Code_Patient Type of Admission Severity of Illness  \\\n106277              15.00            Trauma             Extreme   \n48909               25.00            Trauma            Moderate   \n109603               8.00            Trauma             Extreme   \n9061                11.00            Trauma               Minor   \n172242               8.00            Trauma            Moderate   \n...                   ...               ...                 ...   \n58777                2.00         Emergency               Minor   \n23646               12.00            Trauma             Extreme   \n232739               2.00            Trauma               Minor   \n204119               4.00         Emergency               Minor   \n10039                5.00            Trauma               Minor   \n\n        Visitors with Patient    Age  Admission_Deposit   Stay  \n106277                      2  41-50            7446.00  21-30  \n48909                       2  21-30            5453.00  11-20  \n109603                      4  51-60            4189.00  31-40  \n9061                        3  71-80            5464.00  41-50  \n172242                      2  21-30            4595.00  41-50  \n...                       ...    ...                ...    ...  \n58777                       2  31-40            3585.00   0-10  \n23646                       2  41-50            6708.00  11-20  \n232739                      4  21-30            4489.00   0-10  \n204119                      4  51-60            6554.00  11-20  \n10039                       3  41-50            4331.00  11-20  \n\n[94138 rows x 16 columns]",
      "text/html": "<div>\n<style scoped>\n    .dataframe tbody tr th:only-of-type {\n        vertical-align: middle;\n    }\n\n    .dataframe tbody tr th {\n        vertical-align: top;\n    }\n\n    .dataframe thead th {\n        text-align: right;\n    }\n</style>\n<table border=\"1\" class=\"dataframe\">\n  <thead>\n    <tr style=\"text-align: right;\">\n      <th></th>\n      <th>Hospital_code</th>\n      <th>Hospital_type_code</th>\n      <th>City_Code_Hospital</th>\n      <th>Hospital_region_code</th>\n      <th>Available Extra Rooms in Hospital</th>\n      <th>Department</th>\n      <th>Ward_Type</th>\n      <th>Ward_Facility_Code</th>\n      <th>Bed Grade</th>\n      <th>City_Code_Patient</th>\n      <th>Type of Admission</th>\n      <th>Severity of Illness</th>\n      <th>Visitors with Patient</th>\n      <th>Age</th>\n      <th>Admission_Deposit</th>\n      <th>Stay</th>\n    </tr>\n  </thead>\n  <tbody>\n    <tr>\n      <th>106277</th>\n      <td>6</td>\n      <td>a</td>\n      <td>6</td>\n      <td>X</td>\n      <td>4</td>\n      <td>gynecology</td>\n      <td>Q</td>\n      <td>F</td>\n      <td>2.00</td>\n      <td>15.00</td>\n      <td>Trauma</td>\n      <td>Extreme</td>\n      <td>2</td>\n      <td>41-50</td>\n      <td>7446.00</td>\n      <td>21-30</td>\n    </tr>\n    <tr>\n      <th>48909</th>\n      <td>10</td>\n      <td>e</td>\n      <td>1</td>\n      <td>X</td>\n      <td>3</td>\n      <td>gynecology</td>\n      <td>S</td>\n      <td>E</td>\n      <td>1.00</td>\n      <td>25.00</td>\n      <td>Trauma</td>\n      <td>Moderate</td>\n      <td>2</td>\n      <td>21-30</td>\n      <td>5453.00</td>\n      <td>11-20</td>\n    </tr>\n    <tr>\n      <th>109603</th>\n      <td>11</td>\n      <td>b</td>\n      <td>2</td>\n      <td>Y</td>\n      <td>4</td>\n      <td>gynecology</td>\n      <td>Q</td>\n      <td>D</td>\n      <td>2.00</td>\n      <td>8.00</td>\n      <td>Trauma</td>\n      <td>Extreme</td>\n      <td>4</td>\n      <td>51-60</td>\n      <td>4189.00</td>\n      <td>31-40</td>\n    </tr>\n    <tr>\n      <th>9061</th>\n      <td>30</td>\n      <td>c</td>\n      <td>3</td>\n      <td>Z</td>\n      <td>3</td>\n      <td>TB &amp; Chest disease</td>\n      <td>R</td>\n      <td>A</td>\n      <td>3.00</td>\n      <td>11.00</td>\n      <td>Trauma</td>\n      <td>Minor</td>\n      <td>3</td>\n      <td>71-80</td>\n      <td>5464.00</td>\n      <td>41-50</td>\n    </tr>\n    <tr>\n      <th>172242</th>\n      <td>30</td>\n      <td>c</td>\n      <td>3</td>\n      <td>Z</td>\n      <td>4</td>\n      <td>gynecology</td>\n      <td>Q</td>\n      <td>A</td>\n      <td>2.00</td>\n      <td>8.00</td>\n      <td>Trauma</td>\n      <td>Moderate</td>\n      <td>2</td>\n      <td>21-30</td>\n      <td>4595.00</td>\n      <td>41-50</td>\n    </tr>\n    <tr>\n      <th>...</th>\n      <td>...</td>\n      <td>...</td>\n      <td>...</td>\n      <td>...</td>\n      <td>...</td>\n      <td>...</td>\n      <td>...</td>\n      <td>...</td>\n      <td>...</td>\n      <td>...</td>\n      <td>...</td>\n      <td>...</td>\n      <td>...</td>\n      <td>...</td>\n      <td>...</td>\n      <td>...</td>\n    </tr>\n    <tr>\n      <th>58777</th>\n      <td>14</td>\n      <td>a</td>\n      <td>1</td>\n      <td>X</td>\n      <td>2</td>\n      <td>gynecology</td>\n      <td>S</td>\n      <td>E</td>\n      <td>3.00</td>\n      <td>2.00</td>\n      <td>Emergency</td>\n      <td>Minor</td>\n      <td>2</td>\n      <td>31-40</td>\n      <td>3585.00</td>\n      <td>0-10</td>\n    </tr>\n    <tr>\n      <th>23646</th>\n      <td>28</td>\n      <td>b</td>\n      <td>11</td>\n      <td>X</td>\n      <td>2</td>\n      <td>gynecology</td>\n      <td>R</td>\n      <td>F</td>\n      <td>2.00</td>\n      <td>12.00</td>\n      <td>Trauma</td>\n      <td>Extreme</td>\n      <td>2</td>\n      <td>41-50</td>\n      <td>6708.00</td>\n      <td>11-20</td>\n    </tr>\n    <tr>\n      <th>232739</th>\n      <td>23</td>\n      <td>a</td>\n      <td>6</td>\n      <td>X</td>\n      <td>5</td>\n      <td>gynecology</td>\n      <td>Q</td>\n      <td>F</td>\n      <td>3.00</td>\n      <td>2.00</td>\n      <td>Trauma</td>\n      <td>Minor</td>\n      <td>4</td>\n      <td>21-30</td>\n      <td>4489.00</td>\n      <td>0-10</td>\n    </tr>\n    <tr>\n      <th>204119</th>\n      <td>14</td>\n      <td>a</td>\n      <td>1</td>\n      <td>X</td>\n      <td>4</td>\n      <td>gynecology</td>\n      <td>Q</td>\n      <td>E</td>\n      <td>3.00</td>\n      <td>4.00</td>\n      <td>Emergency</td>\n      <td>Minor</td>\n      <td>4</td>\n      <td>51-60</td>\n      <td>6554.00</td>\n      <td>11-20</td>\n    </tr>\n    <tr>\n      <th>10039</th>\n      <td>25</td>\n      <td>e</td>\n      <td>1</td>\n      <td>X</td>\n      <td>4</td>\n      <td>gynecology</td>\n      <td>R</td>\n      <td>E</td>\n      <td>4.00</td>\n      <td>5.00</td>\n      <td>Trauma</td>\n      <td>Minor</td>\n      <td>3</td>\n      <td>41-50</td>\n      <td>4331.00</td>\n      <td>11-20</td>\n    </tr>\n  </tbody>\n</table>\n<p>94138 rows × 16 columns</p>\n</div>"
     },
     "execution_count": 32,
     "metadata": {},
     "output_type": "execute_result"
    }
   ],
   "source": [
    "Xtest"
   ],
   "metadata": {
    "collapsed": false
   }
  },
  {
   "cell_type": "code",
   "execution_count": 33,
   "outputs": [
    {
     "data": {
      "text/plain": "291956                 51-60\n74686                  31-40\n255553                 11-20\n23023                 91-100\n290082                 11-20\n                 ...        \n119879    More than 100 Days\n259178                 71-80\n131932                 61-70\n146867                 11-20\n121958                 31-40\nName: Stay, Length: 219655, dtype: object"
     },
     "execution_count": 33,
     "metadata": {},
     "output_type": "execute_result"
    }
   ],
   "source": [
    "Ytrain"
   ],
   "metadata": {
    "collapsed": false
   }
  },
  {
   "cell_type": "code",
   "execution_count": 34,
   "outputs": [
    {
     "data": {
      "text/plain": "106277    21-30\n48909     11-20\n109603    31-40\n9061      41-50\n172242    41-50\n          ...  \n58777      0-10\n23646     11-20\n232739     0-10\n204119    11-20\n10039     11-20\nName: Stay, Length: 94138, dtype: object"
     },
     "execution_count": 34,
     "metadata": {},
     "output_type": "execute_result"
    }
   ],
   "source": [
    "Ytest"
   ],
   "metadata": {
    "collapsed": false
   }
  },
  {
   "cell_type": "code",
   "execution_count": 35,
   "outputs": [
    {
     "data": {
      "text/plain": "        Hospital_code Hospital_type_code  City_Code_Hospital  \\\n291956              3                  c                   3   \n74686              28                  b                  11   \n255553             23                  a                   6   \n23023              29                  a                   4   \n290082             22                  g                   9   \n...               ...                ...                 ...   \n119879             19                  a                   7   \n259178             26                  b                   2   \n131932             12                  a                   9   \n146867             32                  f                   9   \n121958             32                  f                   9   \n\n       Hospital_region_code  Available Extra Rooms in Hospital    Department  \\\n291956                    Z                                  6  radiotherapy   \n74686                     X                                  2    gynecology   \n255553                    X                                  2  radiotherapy   \n23023                     X                                  4    gynecology   \n290082                    Y                                  6    gynecology   \n...                     ...                                ...           ...   \n119879                    Y                                  2    gynecology   \n259178                    Y                                  3    gynecology   \n131932                    Y                                  4  radiotherapy   \n146867                    Y                                  3    gynecology   \n121958                    Y                                  3    gynecology   \n\n       Ward_Type Ward_Facility_Code  Bed Grade  City_Code_Patient  \\\n291956         Q                  A       3.00               6.00   \n74686          R                  F       1.00               2.00   \n255553         R                  F       3.00               4.00   \n23023          S                  F       2.00               2.00   \n290082         R                  B       3.00              14.00   \n...          ...                ...        ...                ...   \n119879         S                  C       2.00               8.00   \n259178         R                  D       3.00               7.00   \n131932         R                  B       3.00              23.00   \n146867         S                  B       3.00               9.00   \n121958         S                  B       3.00               5.00   \n\n       Type of Admission Severity of Illness  Visitors with Patient    Age  \\\n291956         Emergency            Moderate                     10  51-60   \n74686             Urgent             Extreme                      3  41-50   \n255553            Trauma               Minor                      2  61-70   \n23023             Trauma            Moderate                      4  31-40   \n290082            Trauma            Moderate                      2  51-60   \n...                  ...                 ...                    ...    ...   \n119879         Emergency            Moderate                     10  41-50   \n259178            Trauma               Minor                      5  21-30   \n131932         Emergency            Moderate                      6  41-50   \n146867         Emergency               Minor                      2  11-20   \n121958            Trauma            Moderate                      3  41-50   \n\n        Admission_Deposit                Stay  \n291956            2903.00               51-60  \n74686             4530.00               31-40  \n255553            4469.00               11-20  \n23023             6094.00              91-100  \n290082            5981.00               11-20  \n...                   ...                 ...  \n119879            3396.00  More than 100 Days  \n259178            5619.00               71-80  \n131932            8046.00               61-70  \n146867            5441.00               11-20  \n121958            5682.00               31-40  \n\n[219655 rows x 16 columns]",
      "text/html": "<div>\n<style scoped>\n    .dataframe tbody tr th:only-of-type {\n        vertical-align: middle;\n    }\n\n    .dataframe tbody tr th {\n        vertical-align: top;\n    }\n\n    .dataframe thead th {\n        text-align: right;\n    }\n</style>\n<table border=\"1\" class=\"dataframe\">\n  <thead>\n    <tr style=\"text-align: right;\">\n      <th></th>\n      <th>Hospital_code</th>\n      <th>Hospital_type_code</th>\n      <th>City_Code_Hospital</th>\n      <th>Hospital_region_code</th>\n      <th>Available Extra Rooms in Hospital</th>\n      <th>Department</th>\n      <th>Ward_Type</th>\n      <th>Ward_Facility_Code</th>\n      <th>Bed Grade</th>\n      <th>City_Code_Patient</th>\n      <th>Type of Admission</th>\n      <th>Severity of Illness</th>\n      <th>Visitors with Patient</th>\n      <th>Age</th>\n      <th>Admission_Deposit</th>\n      <th>Stay</th>\n    </tr>\n  </thead>\n  <tbody>\n    <tr>\n      <th>291956</th>\n      <td>3</td>\n      <td>c</td>\n      <td>3</td>\n      <td>Z</td>\n      <td>6</td>\n      <td>radiotherapy</td>\n      <td>Q</td>\n      <td>A</td>\n      <td>3.00</td>\n      <td>6.00</td>\n      <td>Emergency</td>\n      <td>Moderate</td>\n      <td>10</td>\n      <td>51-60</td>\n      <td>2903.00</td>\n      <td>51-60</td>\n    </tr>\n    <tr>\n      <th>74686</th>\n      <td>28</td>\n      <td>b</td>\n      <td>11</td>\n      <td>X</td>\n      <td>2</td>\n      <td>gynecology</td>\n      <td>R</td>\n      <td>F</td>\n      <td>1.00</td>\n      <td>2.00</td>\n      <td>Urgent</td>\n      <td>Extreme</td>\n      <td>3</td>\n      <td>41-50</td>\n      <td>4530.00</td>\n      <td>31-40</td>\n    </tr>\n    <tr>\n      <th>255553</th>\n      <td>23</td>\n      <td>a</td>\n      <td>6</td>\n      <td>X</td>\n      <td>2</td>\n      <td>radiotherapy</td>\n      <td>R</td>\n      <td>F</td>\n      <td>3.00</td>\n      <td>4.00</td>\n      <td>Trauma</td>\n      <td>Minor</td>\n      <td>2</td>\n      <td>61-70</td>\n      <td>4469.00</td>\n      <td>11-20</td>\n    </tr>\n    <tr>\n      <th>23023</th>\n      <td>29</td>\n      <td>a</td>\n      <td>4</td>\n      <td>X</td>\n      <td>4</td>\n      <td>gynecology</td>\n      <td>S</td>\n      <td>F</td>\n      <td>2.00</td>\n      <td>2.00</td>\n      <td>Trauma</td>\n      <td>Moderate</td>\n      <td>4</td>\n      <td>31-40</td>\n      <td>6094.00</td>\n      <td>91-100</td>\n    </tr>\n    <tr>\n      <th>290082</th>\n      <td>22</td>\n      <td>g</td>\n      <td>9</td>\n      <td>Y</td>\n      <td>6</td>\n      <td>gynecology</td>\n      <td>R</td>\n      <td>B</td>\n      <td>3.00</td>\n      <td>14.00</td>\n      <td>Trauma</td>\n      <td>Moderate</td>\n      <td>2</td>\n      <td>51-60</td>\n      <td>5981.00</td>\n      <td>11-20</td>\n    </tr>\n    <tr>\n      <th>...</th>\n      <td>...</td>\n      <td>...</td>\n      <td>...</td>\n      <td>...</td>\n      <td>...</td>\n      <td>...</td>\n      <td>...</td>\n      <td>...</td>\n      <td>...</td>\n      <td>...</td>\n      <td>...</td>\n      <td>...</td>\n      <td>...</td>\n      <td>...</td>\n      <td>...</td>\n      <td>...</td>\n    </tr>\n    <tr>\n      <th>119879</th>\n      <td>19</td>\n      <td>a</td>\n      <td>7</td>\n      <td>Y</td>\n      <td>2</td>\n      <td>gynecology</td>\n      <td>S</td>\n      <td>C</td>\n      <td>2.00</td>\n      <td>8.00</td>\n      <td>Emergency</td>\n      <td>Moderate</td>\n      <td>10</td>\n      <td>41-50</td>\n      <td>3396.00</td>\n      <td>More than 100 Days</td>\n    </tr>\n    <tr>\n      <th>259178</th>\n      <td>26</td>\n      <td>b</td>\n      <td>2</td>\n      <td>Y</td>\n      <td>3</td>\n      <td>gynecology</td>\n      <td>R</td>\n      <td>D</td>\n      <td>3.00</td>\n      <td>7.00</td>\n      <td>Trauma</td>\n      <td>Minor</td>\n      <td>5</td>\n      <td>21-30</td>\n      <td>5619.00</td>\n      <td>71-80</td>\n    </tr>\n    <tr>\n      <th>131932</th>\n      <td>12</td>\n      <td>a</td>\n      <td>9</td>\n      <td>Y</td>\n      <td>4</td>\n      <td>radiotherapy</td>\n      <td>R</td>\n      <td>B</td>\n      <td>3.00</td>\n      <td>23.00</td>\n      <td>Emergency</td>\n      <td>Moderate</td>\n      <td>6</td>\n      <td>41-50</td>\n      <td>8046.00</td>\n      <td>61-70</td>\n    </tr>\n    <tr>\n      <th>146867</th>\n      <td>32</td>\n      <td>f</td>\n      <td>9</td>\n      <td>Y</td>\n      <td>3</td>\n      <td>gynecology</td>\n      <td>S</td>\n      <td>B</td>\n      <td>3.00</td>\n      <td>9.00</td>\n      <td>Emergency</td>\n      <td>Minor</td>\n      <td>2</td>\n      <td>11-20</td>\n      <td>5441.00</td>\n      <td>11-20</td>\n    </tr>\n    <tr>\n      <th>121958</th>\n      <td>32</td>\n      <td>f</td>\n      <td>9</td>\n      <td>Y</td>\n      <td>3</td>\n      <td>gynecology</td>\n      <td>S</td>\n      <td>B</td>\n      <td>3.00</td>\n      <td>5.00</td>\n      <td>Trauma</td>\n      <td>Moderate</td>\n      <td>3</td>\n      <td>41-50</td>\n      <td>5682.00</td>\n      <td>31-40</td>\n    </tr>\n  </tbody>\n</table>\n<p>219655 rows × 16 columns</p>\n</div>"
     },
     "execution_count": 35,
     "metadata": {},
     "output_type": "execute_result"
    }
   ],
   "source": [
    "# 利用Pipeline定义不同变量清洗过程\n",
    "from sklearn.pipeline import Pipeline\n",
    "from sklearn.preprocessing import StandardScaler # 数据标准化\n",
    "\n",
    "# 连续型：处理顺序为1.DataFrameSelector 选择数据集，2.SimpleImputer填充缺失值，3.StandardScaler进行标准化数据\n",
    "num_pipeline = Pipeline([\n",
    "    ('selector', DataFrameSelector(list_train_num)),\n",
    "    ('simple_imputer', SimpleImputer(strategy=\"mean\")),# median为中位数，most_frequent为众数。constant表示将空值填充为自定义的值，但这个自定义的值要通过fill_value来定义\n",
    "    ('std_scaler', StandardScaler()), # 进行标准化\n",
    "    ])\n",
    "\n",
    "# 离散，将数据转化为 数字\n",
    "cat_pipeline = Pipeline([\n",
    "    ('selector', DataFrameSelector(list_train_str)),\n",
    "    ('label_encoder', ExeLabelEncoder()), # 进行 ExeLabelEncoder\n",
    "    ])\n",
    "\n",
    "# 离散，将数据转化为 数字，并进行onehot编码\n",
    "cat_onehot_pipeline = Pipeline([ # 类别需要onehot编码\n",
    "    ('selector', DataFrameSelector(list_train_str_needtrf)),\n",
    "    ('cat_encoder', CategoricalEncoder(encoding=\"onehot-dense\")),\n",
    "    ])\n",
    "\n",
    "Xtrain\n"
   ],
   "metadata": {
    "collapsed": false
   }
  },
  {
   "cell_type": "code",
   "execution_count": 36,
   "outputs": [
    {
     "name": "stderr",
     "output_type": "stream",
     "text": [
      "C:\\Users\\AORUS\\AppData\\Local\\Temp\\ipykernel_53184\\332330603.py:12: DeprecationWarning: `np.int` is a deprecated alias for the builtin `int`. To silence this warning, use `int` by itself. Doing this will not modify any behavior and is safe. When replacing `np.int`, you may wish to use e.g. `np.int64` or `np.int32` to specify the precision. If you wish to review your current use, check the release note link for additional information.\n",
      "Deprecated in NumPy 1.20; for more details and guidance: https://numpy.org/devdocs/release/1.20.0-notes.html#deprecations\n",
      "  arr = np.zeros_like(X, dtype=np.int)\n",
      "C:\\Users\\AORUS\\AppData\\Local\\Temp\\ipykernel_53184\\710887913.py:50: DeprecationWarning: `np.object` is a deprecated alias for the builtin `object`. To silence this warning, use `object` by itself. Doing this will not modify any behavior and is safe. \n",
      "Deprecated in NumPy 1.20; for more details and guidance: https://numpy.org/devdocs/release/1.20.0-notes.html#deprecations\n",
      "  X = check_array(X, dtype=np.object, accept_sparse='csc', copy=True)\n",
      "C:\\Users\\AORUS\\AppData\\Local\\Temp\\ipykernel_53184\\710887913.py:85: DeprecationWarning: `np.object` is a deprecated alias for the builtin `object`. To silence this warning, use `object` by itself. Doing this will not modify any behavior and is safe. \n",
      "Deprecated in NumPy 1.20; for more details and guidance: https://numpy.org/devdocs/release/1.20.0-notes.html#deprecations\n",
      "  X = check_array(X, accept_sparse='csc', dtype=np.object, copy=True)\n",
      "C:\\Users\\AORUS\\AppData\\Local\\Temp\\ipykernel_53184\\710887913.py:89: DeprecationWarning: `np.int` is a deprecated alias for the builtin `int`. To silence this warning, use `int` by itself. Doing this will not modify any behavior and is safe. When replacing `np.int`, you may wish to use e.g. `np.int64` or `np.int32` to specify the precision. If you wish to review your current use, check the release note link for additional information.\n",
      "Deprecated in NumPy 1.20; for more details and guidance: https://numpy.org/devdocs/release/1.20.0-notes.html#deprecations\n",
      "  X_int = np.zeros_like(X, dtype=np.int) # 构建一个和 X 维度相同的(一毛一样)  整数零矩阵\n",
      "C:\\Users\\AORUS\\AppData\\Local\\Temp\\ipykernel_53184\\710887913.py:90: DeprecationWarning: `np.bool` is a deprecated alias for the builtin `bool`. To silence this warning, use `bool` by itself. Doing this will not modify any behavior and is safe. If you specifically wanted the numpy scalar type, use `np.bool_` here.\n",
      "Deprecated in NumPy 1.20; for more details and guidance: https://numpy.org/devdocs/release/1.20.0-notes.html#deprecations\n",
      "  X_mask = np.ones_like(X, dtype=np.bool) # 构建一个和 X 维度相同的(一毛一样)   布尔矩阵\n"
     ]
    },
    {
     "data": {
      "text/plain": "(219655, 121)"
     },
     "execution_count": 36,
     "metadata": {},
     "output_type": "execute_result"
    }
   ],
   "source": [
    "# 定义FeatureUnion 进行流水化清洗数据\n",
    "from sklearn.pipeline import FeatureUnion\n",
    "\n",
    "full_pipeline = FeatureUnion(transformer_list=[\n",
    "        (\"num_pipeline\", num_pipeline),\n",
    "        (\"cat_pipeline\", cat_pipeline),\n",
    "        (\"cat_onehot_pipeline\",cat_onehot_pipeline)\n",
    "    ])\n",
    "\n",
    "df_select_prepared = full_pipeline.fit_transform(Xtrain) # 使用流水线清洗数据，对df_train进行etl\n",
    "\n",
    "df_select_prepared.shape # 查看清洗后的数据维度（行列）"
   ],
   "metadata": {
    "collapsed": false
   }
  },
  {
   "cell_type": "markdown",
   "source": [
    "Feature Selection"
   ],
   "metadata": {
    "collapsed": false
   }
  },
  {
   "cell_type": "code",
   "execution_count": 36,
   "outputs": [],
   "source": [],
   "metadata": {
    "collapsed": false
   }
  }
 ],
 "metadata": {
  "kernelspec": {
   "display_name": "Python 3",
   "language": "python",
   "name": "python3"
  },
  "language_info": {
   "codemirror_mode": {
    "name": "ipython",
    "version": 2
   },
   "file_extension": ".py",
   "mimetype": "text/x-python",
   "name": "python",
   "nbconvert_exporter": "python",
   "pygments_lexer": "ipython2",
   "version": "2.7.6"
  }
 },
 "nbformat": 4,
 "nbformat_minor": 0
}
