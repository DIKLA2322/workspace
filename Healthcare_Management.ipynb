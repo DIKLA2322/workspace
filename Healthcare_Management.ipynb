{
 "cells": [
  {
   "cell_type": "markdown",
   "source": [
    "Init"
   ],
   "metadata": {
    "collapsed": false
   }
  },
  {
   "cell_type": "code",
   "execution_count": 950,
   "outputs": [
    {
     "ename": "ModuleNotFoundError",
     "evalue": "No module named 'google.colab'",
     "output_type": "error",
     "traceback": [
      "\u001B[1;31m---------------------------------------------------------------------------\u001B[0m",
      "\u001B[1;31mModuleNotFoundError\u001B[0m                       Traceback (most recent call last)",
      "Input \u001B[1;32mIn [950]\u001B[0m, in \u001B[0;36m<cell line: 1>\u001B[1;34m()\u001B[0m\n\u001B[1;32m----> 1\u001B[0m \u001B[38;5;28;01mfrom\u001B[39;00m \u001B[38;5;21;01mgoogle\u001B[39;00m\u001B[38;5;21;01m.\u001B[39;00m\u001B[38;5;21;01mcolab\u001B[39;00m \u001B[38;5;28;01mimport\u001B[39;00m drive\n\u001B[0;32m      2\u001B[0m drive\u001B[38;5;241m.\u001B[39mmount(\u001B[38;5;124m'\u001B[39m\u001B[38;5;124m/content/drive\u001B[39m\u001B[38;5;124m'\u001B[39m)\n",
      "\u001B[1;31mModuleNotFoundError\u001B[0m: No module named 'google.colab'"
     ]
    }
   ],
   "source": [
    "from google.colab import drive\n",
    "drive.mount('/content/drive')"
   ],
   "metadata": {
    "collapsed": false
   }
  },
  {
   "cell_type": "code",
   "execution_count": 951,
   "outputs": [
    {
     "name": "stdout",
     "output_type": "stream",
     "text": [
      "[WinError 2] 系统找不到指定的文件。: 'drive'\n",
      "C:\\Users\\AORUS\\Desktop\\机器学习\\ML_Project\n"
     ]
    }
   ],
   "source": [
    "cd drive"
   ],
   "metadata": {
    "collapsed": false
   }
  },
  {
   "cell_type": "code",
   "execution_count": 952,
   "outputs": [
    {
     "name": "stdout",
     "output_type": "stream",
     "text": [
      "[WinError 2] 系统找不到指定的文件。: 'MyDrive'\n",
      "C:\\Users\\AORUS\\Desktop\\机器学习\\ML_Project\n"
     ]
    }
   ],
   "source": [
    "cd MyDrive"
   ],
   "metadata": {
    "collapsed": false
   }
  },
  {
   "cell_type": "code",
   "execution_count": 953,
   "outputs": [
    {
     "name": "stdout",
     "output_type": "stream",
     "text": [
      "[WinError 2] 系统找不到指定的文件。: 'Colab_Notebooks'\n",
      "C:\\Users\\AORUS\\Desktop\\机器学习\\ML_Project\n"
     ]
    }
   ],
   "source": [
    "cd Colab_Notebooks"
   ],
   "metadata": {
    "collapsed": false
   }
  },
  {
   "cell_type": "code",
   "execution_count": 954,
   "outputs": [
    {
     "name": "stdout",
     "output_type": "stream",
     "text": [
      "[WinError 2] 系统找不到指定的文件。: 'Healthcare'\n",
      "C:\\Users\\AORUS\\Desktop\\机器学习\\ML_Project\n"
     ]
    }
   ],
   "source": [
    "cd Healthcare"
   ],
   "metadata": {
    "collapsed": false
   }
  },
  {
   "cell_type": "code",
   "execution_count": 955,
   "outputs": [
    {
     "name": "stdout",
     "output_type": "stream",
     "text": [
      "On branch master\n",
      "Your branch is ahead of 'origin/master' by 1 commit.\n",
      "  (use \"git push\" to publish your local commits)\n",
      "\n",
      "Changes not staged for commit:\n",
      "  (use \"git add <file>...\" to update what will be committed)\n",
      "  (use \"git restore <file>...\" to discard changes in working directory)\n",
      "\tmodified:   Healthcare_Management.ipynb\n",
      "\n",
      "no changes added to commit (use \"git add\" and/or \"git commit -a\")\n"
     ]
    }
   ],
   "source": [
    "!git status"
   ],
   "metadata": {
    "collapsed": false
   }
  },
  {
   "cell_type": "code",
   "execution_count": 956,
   "outputs": [],
   "source": [
    "!git add ."
   ],
   "metadata": {
    "collapsed": false
   }
  },
  {
   "cell_type": "code",
   "execution_count": 957,
   "outputs": [
    {
     "name": "stdout",
     "output_type": "stream",
     "text": [
      "[master 92c288e] colab\n",
      " 1 file changed, 460 insertions(+), 101 deletions(-)\n"
     ]
    }
   ],
   "source": [
    "!git commit -m \"colab\""
   ],
   "metadata": {
    "collapsed": false
   }
  },
  {
   "cell_type": "code",
   "execution_count": 958,
   "outputs": [
    {
     "name": "stderr",
     "output_type": "stream",
     "text": [
      "fatal: unable to access 'https://github.com/DIKLA2322/workspace.git/': OpenSSL SSL_read: Connection was reset, errno 10054\n"
     ]
    }
   ],
   "source": [
    "!git pull"
   ],
   "metadata": {
    "collapsed": false
   }
  },
  {
   "cell_type": "markdown",
   "source": [
    "Data preprocessing and cleaning"
   ],
   "metadata": {
    "collapsed": false
   }
  },
  {
   "cell_type": "code",
   "execution_count": 959,
   "metadata": {
    "collapsed": true
   },
   "outputs": [],
   "source": [
    "from sklearn.impute import SimpleImputer\n",
    "import os\n",
    "import os\n",
    "import pandas as pd\n",
    "import numpy as np\n",
    "\n",
    "np.set_printoptions(suppress=True,   precision=20,  threshold=10,  linewidth=40) # np禁止科学计数法显示\n",
    "pd.set_option('display.float_format',lambda x : '%.2f' % x) # pd禁止科学计数法显示"
   ]
  },
  {
   "cell_type": "code",
   "execution_count": 960,
   "outputs": [
    {
     "data": {
      "text/plain": "        case_id  Hospital_code Hospital_type_code  City_Code_Hospital  \\\n0             1              8                  c                   3   \n1             2              2                  c                   5   \n2             3             10                  e                   1   \n3             4             26                  b                   2   \n4             5             26                  b                   2   \n...         ...            ...                ...                 ...   \n318433   318434              6                  a                   6   \n318434   318435             24                  a                   1   \n318435   318436              7                  a                   4   \n318436   318437             11                  b                   2   \n318437   318438             19                  a                   7   \n\n       Hospital_region_code  Available Extra Rooms in Hospital    Department  \\\n0                         Z                                  3  radiotherapy   \n1                         Z                                  2  radiotherapy   \n2                         X                                  2    anesthesia   \n3                         Y                                  2  radiotherapy   \n4                         Y                                  2  radiotherapy   \n...                     ...                                ...           ...   \n318433                    X                                  3  radiotherapy   \n318434                    X                                  2    anesthesia   \n318435                    X                                  3    gynecology   \n318436                    Y                                  3    anesthesia   \n318437                    Y                                  5    gynecology   \n\n       Ward_Type Ward_Facility_Code  Bed Grade  patientid  City_Code_Patient  \\\n0              R                  F       2.00      31397               7.00   \n1              S                  F       2.00      31397               7.00   \n2              S                  E       2.00      31397               7.00   \n3              R                  D       2.00      31397               7.00   \n4              S                  D       2.00      31397               7.00   \n...          ...                ...        ...        ...                ...   \n318433         Q                  F       4.00      86499              23.00   \n318434         Q                  E       4.00        325               8.00   \n318435         R                  F       4.00     125235              10.00   \n318436         Q                  D       3.00      91081               8.00   \n318437         Q                  C       2.00      21641               8.00   \n\n       Type of Admission Severity of Illness  Visitors with Patient    Age  \\\n0              Emergency             Extreme                      2  51-60   \n1                 Trauma             Extreme                      2  51-60   \n2                 Trauma             Extreme                      2  51-60   \n3                 Trauma             Extreme                      2  51-60   \n4                 Trauma             Extreme                      2  51-60   \n...                  ...                 ...                    ...    ...   \n318433         Emergency            Moderate                      3  41-50   \n318434            Urgent            Moderate                      4  81-90   \n318435         Emergency               Minor                      3  71-80   \n318436            Trauma               Minor                      5  11-20   \n318437         Emergency               Minor                      2  11-20   \n\n        Admission_Deposit   Stay  \n0                 4911.00   0-10  \n1                 5954.00  41-50  \n2                 4745.00  31-40  \n3                 7272.00  41-50  \n4                 5558.00  41-50  \n...                   ...    ...  \n318433            4144.00  11-20  \n318434            6699.00  31-40  \n318435            4235.00  11-20  \n318436            3761.00  11-20  \n318437            4752.00   0-10  \n\n[318438 rows x 18 columns]",
      "text/html": "<div>\n<style scoped>\n    .dataframe tbody tr th:only-of-type {\n        vertical-align: middle;\n    }\n\n    .dataframe tbody tr th {\n        vertical-align: top;\n    }\n\n    .dataframe thead th {\n        text-align: right;\n    }\n</style>\n<table border=\"1\" class=\"dataframe\">\n  <thead>\n    <tr style=\"text-align: right;\">\n      <th></th>\n      <th>case_id</th>\n      <th>Hospital_code</th>\n      <th>Hospital_type_code</th>\n      <th>City_Code_Hospital</th>\n      <th>Hospital_region_code</th>\n      <th>Available Extra Rooms in Hospital</th>\n      <th>Department</th>\n      <th>Ward_Type</th>\n      <th>Ward_Facility_Code</th>\n      <th>Bed Grade</th>\n      <th>patientid</th>\n      <th>City_Code_Patient</th>\n      <th>Type of Admission</th>\n      <th>Severity of Illness</th>\n      <th>Visitors with Patient</th>\n      <th>Age</th>\n      <th>Admission_Deposit</th>\n      <th>Stay</th>\n    </tr>\n  </thead>\n  <tbody>\n    <tr>\n      <th>0</th>\n      <td>1</td>\n      <td>8</td>\n      <td>c</td>\n      <td>3</td>\n      <td>Z</td>\n      <td>3</td>\n      <td>radiotherapy</td>\n      <td>R</td>\n      <td>F</td>\n      <td>2.00</td>\n      <td>31397</td>\n      <td>7.00</td>\n      <td>Emergency</td>\n      <td>Extreme</td>\n      <td>2</td>\n      <td>51-60</td>\n      <td>4911.00</td>\n      <td>0-10</td>\n    </tr>\n    <tr>\n      <th>1</th>\n      <td>2</td>\n      <td>2</td>\n      <td>c</td>\n      <td>5</td>\n      <td>Z</td>\n      <td>2</td>\n      <td>radiotherapy</td>\n      <td>S</td>\n      <td>F</td>\n      <td>2.00</td>\n      <td>31397</td>\n      <td>7.00</td>\n      <td>Trauma</td>\n      <td>Extreme</td>\n      <td>2</td>\n      <td>51-60</td>\n      <td>5954.00</td>\n      <td>41-50</td>\n    </tr>\n    <tr>\n      <th>2</th>\n      <td>3</td>\n      <td>10</td>\n      <td>e</td>\n      <td>1</td>\n      <td>X</td>\n      <td>2</td>\n      <td>anesthesia</td>\n      <td>S</td>\n      <td>E</td>\n      <td>2.00</td>\n      <td>31397</td>\n      <td>7.00</td>\n      <td>Trauma</td>\n      <td>Extreme</td>\n      <td>2</td>\n      <td>51-60</td>\n      <td>4745.00</td>\n      <td>31-40</td>\n    </tr>\n    <tr>\n      <th>3</th>\n      <td>4</td>\n      <td>26</td>\n      <td>b</td>\n      <td>2</td>\n      <td>Y</td>\n      <td>2</td>\n      <td>radiotherapy</td>\n      <td>R</td>\n      <td>D</td>\n      <td>2.00</td>\n      <td>31397</td>\n      <td>7.00</td>\n      <td>Trauma</td>\n      <td>Extreme</td>\n      <td>2</td>\n      <td>51-60</td>\n      <td>7272.00</td>\n      <td>41-50</td>\n    </tr>\n    <tr>\n      <th>4</th>\n      <td>5</td>\n      <td>26</td>\n      <td>b</td>\n      <td>2</td>\n      <td>Y</td>\n      <td>2</td>\n      <td>radiotherapy</td>\n      <td>S</td>\n      <td>D</td>\n      <td>2.00</td>\n      <td>31397</td>\n      <td>7.00</td>\n      <td>Trauma</td>\n      <td>Extreme</td>\n      <td>2</td>\n      <td>51-60</td>\n      <td>5558.00</td>\n      <td>41-50</td>\n    </tr>\n    <tr>\n      <th>...</th>\n      <td>...</td>\n      <td>...</td>\n      <td>...</td>\n      <td>...</td>\n      <td>...</td>\n      <td>...</td>\n      <td>...</td>\n      <td>...</td>\n      <td>...</td>\n      <td>...</td>\n      <td>...</td>\n      <td>...</td>\n      <td>...</td>\n      <td>...</td>\n      <td>...</td>\n      <td>...</td>\n      <td>...</td>\n      <td>...</td>\n    </tr>\n    <tr>\n      <th>318433</th>\n      <td>318434</td>\n      <td>6</td>\n      <td>a</td>\n      <td>6</td>\n      <td>X</td>\n      <td>3</td>\n      <td>radiotherapy</td>\n      <td>Q</td>\n      <td>F</td>\n      <td>4.00</td>\n      <td>86499</td>\n      <td>23.00</td>\n      <td>Emergency</td>\n      <td>Moderate</td>\n      <td>3</td>\n      <td>41-50</td>\n      <td>4144.00</td>\n      <td>11-20</td>\n    </tr>\n    <tr>\n      <th>318434</th>\n      <td>318435</td>\n      <td>24</td>\n      <td>a</td>\n      <td>1</td>\n      <td>X</td>\n      <td>2</td>\n      <td>anesthesia</td>\n      <td>Q</td>\n      <td>E</td>\n      <td>4.00</td>\n      <td>325</td>\n      <td>8.00</td>\n      <td>Urgent</td>\n      <td>Moderate</td>\n      <td>4</td>\n      <td>81-90</td>\n      <td>6699.00</td>\n      <td>31-40</td>\n    </tr>\n    <tr>\n      <th>318435</th>\n      <td>318436</td>\n      <td>7</td>\n      <td>a</td>\n      <td>4</td>\n      <td>X</td>\n      <td>3</td>\n      <td>gynecology</td>\n      <td>R</td>\n      <td>F</td>\n      <td>4.00</td>\n      <td>125235</td>\n      <td>10.00</td>\n      <td>Emergency</td>\n      <td>Minor</td>\n      <td>3</td>\n      <td>71-80</td>\n      <td>4235.00</td>\n      <td>11-20</td>\n    </tr>\n    <tr>\n      <th>318436</th>\n      <td>318437</td>\n      <td>11</td>\n      <td>b</td>\n      <td>2</td>\n      <td>Y</td>\n      <td>3</td>\n      <td>anesthesia</td>\n      <td>Q</td>\n      <td>D</td>\n      <td>3.00</td>\n      <td>91081</td>\n      <td>8.00</td>\n      <td>Trauma</td>\n      <td>Minor</td>\n      <td>5</td>\n      <td>11-20</td>\n      <td>3761.00</td>\n      <td>11-20</td>\n    </tr>\n    <tr>\n      <th>318437</th>\n      <td>318438</td>\n      <td>19</td>\n      <td>a</td>\n      <td>7</td>\n      <td>Y</td>\n      <td>5</td>\n      <td>gynecology</td>\n      <td>Q</td>\n      <td>C</td>\n      <td>2.00</td>\n      <td>21641</td>\n      <td>8.00</td>\n      <td>Emergency</td>\n      <td>Minor</td>\n      <td>2</td>\n      <td>11-20</td>\n      <td>4752.00</td>\n      <td>0-10</td>\n    </tr>\n  </tbody>\n</table>\n<p>318438 rows × 18 columns</p>\n</div>"
     },
     "execution_count": 960,
     "metadata": {},
     "output_type": "execute_result"
    }
   ],
   "source": [
    "path = \"data/train_data.csv\"\n",
    "\n",
    "df_all = pd.read_csv(path) # 读取数据，根据你自己文件地址编写\n",
    "\n",
    "df_all.drop_duplicates(inplace=True) # 使用drop_duplicates去重，inplace=True对原数据集进行替换\n",
    "df_all.reset_index(drop=True, inplace=True) # 删除数据后，恢复索引\n",
    "\n",
    "df_all"
   ],
   "metadata": {
    "collapsed": false
   }
  },
  {
   "cell_type": "code",
   "execution_count": 961,
   "outputs": [
    {
     "name": "stdout",
     "output_type": "stream",
     "text": [
      "<class 'pandas.core.frame.DataFrame'>\n",
      "RangeIndex: 318438 entries, 0 to 318437\n",
      "Data columns (total 18 columns):\n",
      " #   Column                             Non-Null Count   Dtype  \n",
      "---  ------                             --------------   -----  \n",
      " 0   case_id                            318438 non-null  int64  \n",
      " 1   Hospital_code                      318438 non-null  int64  \n",
      " 2   Hospital_type_code                 318438 non-null  object \n",
      " 3   City_Code_Hospital                 318438 non-null  int64  \n",
      " 4   Hospital_region_code               318438 non-null  object \n",
      " 5   Available Extra Rooms in Hospital  318438 non-null  int64  \n",
      " 6   Department                         318438 non-null  object \n",
      " 7   Ward_Type                          318438 non-null  object \n",
      " 8   Ward_Facility_Code                 318438 non-null  object \n",
      " 9   Bed Grade                          318325 non-null  float64\n",
      " 10  patientid                          318438 non-null  int64  \n",
      " 11  City_Code_Patient                  313906 non-null  float64\n",
      " 12  Type of Admission                  318438 non-null  object \n",
      " 13  Severity of Illness                318438 non-null  object \n",
      " 14  Visitors with Patient              318438 non-null  int64  \n",
      " 15  Age                                318438 non-null  object \n",
      " 16  Admission_Deposit                  318438 non-null  float64\n",
      " 17  Stay                               318438 non-null  object \n",
      "dtypes: float64(3), int64(6), object(9)\n",
      "memory usage: 43.7+ MB\n"
     ]
    }
   ],
   "source": [
    "# 整体查看数据类型 以及缺失情况\n",
    "df_all.info()"
   ],
   "metadata": {
    "collapsed": false
   }
  },
  {
   "cell_type": "code",
   "execution_count": 962,
   "outputs": [],
   "source": [
    "df_all['Hospital_code'] = df_all['Hospital_code'].astype(object)\n",
    "df_all['City_Code_Hospital'] = df_all['City_Code_Hospital'].astype(object)\n",
    "df_all['Bed Grade'] = df_all['Bed Grade'].astype(object)\n",
    "df_all['City_Code_Patient'] = df_all['City_Code_Patient'].astype(object)"
   ],
   "metadata": {
    "collapsed": false
   }
  },
  {
   "cell_type": "code",
   "execution_count": 963,
   "outputs": [
    {
     "name": "stdout",
     "output_type": "stream",
     "text": [
      "<class 'pandas.core.frame.DataFrame'>\n",
      "RangeIndex: 318438 entries, 0 to 318437\n",
      "Data columns (total 18 columns):\n",
      " #   Column                             Non-Null Count   Dtype  \n",
      "---  ------                             --------------   -----  \n",
      " 0   case_id                            318438 non-null  int64  \n",
      " 1   Hospital_code                      318438 non-null  object \n",
      " 2   Hospital_type_code                 318438 non-null  object \n",
      " 3   City_Code_Hospital                 318438 non-null  object \n",
      " 4   Hospital_region_code               318438 non-null  object \n",
      " 5   Available Extra Rooms in Hospital  318438 non-null  int64  \n",
      " 6   Department                         318438 non-null  object \n",
      " 7   Ward_Type                          318438 non-null  object \n",
      " 8   Ward_Facility_Code                 318438 non-null  object \n",
      " 9   Bed Grade                          318325 non-null  object \n",
      " 10  patientid                          318438 non-null  int64  \n",
      " 11  City_Code_Patient                  313906 non-null  object \n",
      " 12  Type of Admission                  318438 non-null  object \n",
      " 13  Severity of Illness                318438 non-null  object \n",
      " 14  Visitors with Patient              318438 non-null  int64  \n",
      " 15  Age                                318438 non-null  object \n",
      " 16  Admission_Deposit                  318438 non-null  float64\n",
      " 17  Stay                               318438 non-null  object \n",
      "dtypes: float64(1), int64(4), object(13)\n",
      "memory usage: 43.7+ MB\n"
     ]
    }
   ],
   "source": [
    "# 整体查看数据类型 以及缺失情况\n",
    "df_all.info()"
   ],
   "metadata": {
    "collapsed": false
   }
  },
  {
   "cell_type": "code",
   "execution_count": 963,
   "outputs": [],
   "source": [],
   "metadata": {
    "collapsed": false
   }
  },
  {
   "cell_type": "code",
   "execution_count": 964,
   "outputs": [
    {
     "name": "stdout",
     "output_type": "stream",
     "text": [
      "缺失量在20.0%以上的变量有:[]\n"
     ]
    },
    {
     "data": {
      "text/plain": "        case_id Hospital_code Hospital_type_code City_Code_Hospital  \\\n0             1             8                  c                  3   \n1             2             2                  c                  5   \n2             3            10                  e                  1   \n3             4            26                  b                  2   \n4             5            26                  b                  2   \n...         ...           ...                ...                ...   \n318433   318434             6                  a                  6   \n318434   318435            24                  a                  1   \n318435   318436             7                  a                  4   \n318436   318437            11                  b                  2   \n318437   318438            19                  a                  7   \n\n       Hospital_region_code  Available Extra Rooms in Hospital    Department  \\\n0                         Z                                  3  radiotherapy   \n1                         Z                                  2  radiotherapy   \n2                         X                                  2    anesthesia   \n3                         Y                                  2  radiotherapy   \n4                         Y                                  2  radiotherapy   \n...                     ...                                ...           ...   \n318433                    X                                  3  radiotherapy   \n318434                    X                                  2    anesthesia   \n318435                    X                                  3    gynecology   \n318436                    Y                                  3    anesthesia   \n318437                    Y                                  5    gynecology   \n\n       Ward_Type Ward_Facility_Code Bed Grade  patientid City_Code_Patient  \\\n0              R                  F      2.00      31397              7.00   \n1              S                  F      2.00      31397              7.00   \n2              S                  E      2.00      31397              7.00   \n3              R                  D      2.00      31397              7.00   \n4              S                  D      2.00      31397              7.00   \n...          ...                ...       ...        ...               ...   \n318433         Q                  F      4.00      86499             23.00   \n318434         Q                  E      4.00        325              8.00   \n318435         R                  F      4.00     125235             10.00   \n318436         Q                  D      3.00      91081              8.00   \n318437         Q                  C      2.00      21641              8.00   \n\n       Type of Admission Severity of Illness  Visitors with Patient    Age  \\\n0              Emergency             Extreme                      2  51-60   \n1                 Trauma             Extreme                      2  51-60   \n2                 Trauma             Extreme                      2  51-60   \n3                 Trauma             Extreme                      2  51-60   \n4                 Trauma             Extreme                      2  51-60   \n...                  ...                 ...                    ...    ...   \n318433         Emergency            Moderate                      3  41-50   \n318434            Urgent            Moderate                      4  81-90   \n318435         Emergency               Minor                      3  71-80   \n318436            Trauma               Minor                      5  11-20   \n318437         Emergency               Minor                      2  11-20   \n\n        Admission_Deposit   Stay  \n0                 4911.00   0-10  \n1                 5954.00  41-50  \n2                 4745.00  31-40  \n3                 7272.00  41-50  \n4                 5558.00  41-50  \n...                   ...    ...  \n318433            4144.00  11-20  \n318434            6699.00  31-40  \n318435            4235.00  11-20  \n318436            3761.00  11-20  \n318437            4752.00   0-10  \n\n[318438 rows x 18 columns]",
      "text/html": "<div>\n<style scoped>\n    .dataframe tbody tr th:only-of-type {\n        vertical-align: middle;\n    }\n\n    .dataframe tbody tr th {\n        vertical-align: top;\n    }\n\n    .dataframe thead th {\n        text-align: right;\n    }\n</style>\n<table border=\"1\" class=\"dataframe\">\n  <thead>\n    <tr style=\"text-align: right;\">\n      <th></th>\n      <th>case_id</th>\n      <th>Hospital_code</th>\n      <th>Hospital_type_code</th>\n      <th>City_Code_Hospital</th>\n      <th>Hospital_region_code</th>\n      <th>Available Extra Rooms in Hospital</th>\n      <th>Department</th>\n      <th>Ward_Type</th>\n      <th>Ward_Facility_Code</th>\n      <th>Bed Grade</th>\n      <th>patientid</th>\n      <th>City_Code_Patient</th>\n      <th>Type of Admission</th>\n      <th>Severity of Illness</th>\n      <th>Visitors with Patient</th>\n      <th>Age</th>\n      <th>Admission_Deposit</th>\n      <th>Stay</th>\n    </tr>\n  </thead>\n  <tbody>\n    <tr>\n      <th>0</th>\n      <td>1</td>\n      <td>8</td>\n      <td>c</td>\n      <td>3</td>\n      <td>Z</td>\n      <td>3</td>\n      <td>radiotherapy</td>\n      <td>R</td>\n      <td>F</td>\n      <td>2.00</td>\n      <td>31397</td>\n      <td>7.00</td>\n      <td>Emergency</td>\n      <td>Extreme</td>\n      <td>2</td>\n      <td>51-60</td>\n      <td>4911.00</td>\n      <td>0-10</td>\n    </tr>\n    <tr>\n      <th>1</th>\n      <td>2</td>\n      <td>2</td>\n      <td>c</td>\n      <td>5</td>\n      <td>Z</td>\n      <td>2</td>\n      <td>radiotherapy</td>\n      <td>S</td>\n      <td>F</td>\n      <td>2.00</td>\n      <td>31397</td>\n      <td>7.00</td>\n      <td>Trauma</td>\n      <td>Extreme</td>\n      <td>2</td>\n      <td>51-60</td>\n      <td>5954.00</td>\n      <td>41-50</td>\n    </tr>\n    <tr>\n      <th>2</th>\n      <td>3</td>\n      <td>10</td>\n      <td>e</td>\n      <td>1</td>\n      <td>X</td>\n      <td>2</td>\n      <td>anesthesia</td>\n      <td>S</td>\n      <td>E</td>\n      <td>2.00</td>\n      <td>31397</td>\n      <td>7.00</td>\n      <td>Trauma</td>\n      <td>Extreme</td>\n      <td>2</td>\n      <td>51-60</td>\n      <td>4745.00</td>\n      <td>31-40</td>\n    </tr>\n    <tr>\n      <th>3</th>\n      <td>4</td>\n      <td>26</td>\n      <td>b</td>\n      <td>2</td>\n      <td>Y</td>\n      <td>2</td>\n      <td>radiotherapy</td>\n      <td>R</td>\n      <td>D</td>\n      <td>2.00</td>\n      <td>31397</td>\n      <td>7.00</td>\n      <td>Trauma</td>\n      <td>Extreme</td>\n      <td>2</td>\n      <td>51-60</td>\n      <td>7272.00</td>\n      <td>41-50</td>\n    </tr>\n    <tr>\n      <th>4</th>\n      <td>5</td>\n      <td>26</td>\n      <td>b</td>\n      <td>2</td>\n      <td>Y</td>\n      <td>2</td>\n      <td>radiotherapy</td>\n      <td>S</td>\n      <td>D</td>\n      <td>2.00</td>\n      <td>31397</td>\n      <td>7.00</td>\n      <td>Trauma</td>\n      <td>Extreme</td>\n      <td>2</td>\n      <td>51-60</td>\n      <td>5558.00</td>\n      <td>41-50</td>\n    </tr>\n    <tr>\n      <th>...</th>\n      <td>...</td>\n      <td>...</td>\n      <td>...</td>\n      <td>...</td>\n      <td>...</td>\n      <td>...</td>\n      <td>...</td>\n      <td>...</td>\n      <td>...</td>\n      <td>...</td>\n      <td>...</td>\n      <td>...</td>\n      <td>...</td>\n      <td>...</td>\n      <td>...</td>\n      <td>...</td>\n      <td>...</td>\n      <td>...</td>\n    </tr>\n    <tr>\n      <th>318433</th>\n      <td>318434</td>\n      <td>6</td>\n      <td>a</td>\n      <td>6</td>\n      <td>X</td>\n      <td>3</td>\n      <td>radiotherapy</td>\n      <td>Q</td>\n      <td>F</td>\n      <td>4.00</td>\n      <td>86499</td>\n      <td>23.00</td>\n      <td>Emergency</td>\n      <td>Moderate</td>\n      <td>3</td>\n      <td>41-50</td>\n      <td>4144.00</td>\n      <td>11-20</td>\n    </tr>\n    <tr>\n      <th>318434</th>\n      <td>318435</td>\n      <td>24</td>\n      <td>a</td>\n      <td>1</td>\n      <td>X</td>\n      <td>2</td>\n      <td>anesthesia</td>\n      <td>Q</td>\n      <td>E</td>\n      <td>4.00</td>\n      <td>325</td>\n      <td>8.00</td>\n      <td>Urgent</td>\n      <td>Moderate</td>\n      <td>4</td>\n      <td>81-90</td>\n      <td>6699.00</td>\n      <td>31-40</td>\n    </tr>\n    <tr>\n      <th>318435</th>\n      <td>318436</td>\n      <td>7</td>\n      <td>a</td>\n      <td>4</td>\n      <td>X</td>\n      <td>3</td>\n      <td>gynecology</td>\n      <td>R</td>\n      <td>F</td>\n      <td>4.00</td>\n      <td>125235</td>\n      <td>10.00</td>\n      <td>Emergency</td>\n      <td>Minor</td>\n      <td>3</td>\n      <td>71-80</td>\n      <td>4235.00</td>\n      <td>11-20</td>\n    </tr>\n    <tr>\n      <th>318436</th>\n      <td>318437</td>\n      <td>11</td>\n      <td>b</td>\n      <td>2</td>\n      <td>Y</td>\n      <td>3</td>\n      <td>anesthesia</td>\n      <td>Q</td>\n      <td>D</td>\n      <td>3.00</td>\n      <td>91081</td>\n      <td>8.00</td>\n      <td>Trauma</td>\n      <td>Minor</td>\n      <td>5</td>\n      <td>11-20</td>\n      <td>3761.00</td>\n      <td>11-20</td>\n    </tr>\n    <tr>\n      <th>318437</th>\n      <td>318438</td>\n      <td>19</td>\n      <td>a</td>\n      <td>7</td>\n      <td>Y</td>\n      <td>5</td>\n      <td>gynecology</td>\n      <td>Q</td>\n      <td>C</td>\n      <td>2.00</td>\n      <td>21641</td>\n      <td>8.00</td>\n      <td>Emergency</td>\n      <td>Minor</td>\n      <td>2</td>\n      <td>11-20</td>\n      <td>4752.00</td>\n      <td>0-10</td>\n    </tr>\n  </tbody>\n</table>\n<p>318438 rows × 18 columns</p>\n</div>"
     },
     "execution_count": 964,
     "metadata": {},
     "output_type": "execute_result"
    }
   ],
   "source": [
    "# 定义查找缺失变量函数，返回 缺失值率> 指定缺失率(narate) 的列表\n",
    "def filter_col_by_nan(data, narate=0.2):\n",
    "    '''\n",
    "    :param data: 查找数据集\n",
    "    :param narate: 设定变量的缺失值率，默认20%\n",
    "    :return: 返回 缺失率>narate的变量名称列表\n",
    "    '''\n",
    "    n_samples = data.shape[0]\n",
    "    list_nan_cols = []\n",
    "    for col in data.columns:\n",
    "        if data[col].isna().sum() / n_samples >= (narate):\n",
    "            list_nan_cols.append(col)\n",
    "\n",
    "    print(f'缺失量在{narate * 100}%以上的变量有:{list_nan_cols}')\n",
    "\n",
    "    return list_nan_cols\n",
    "\n",
    "list_nullfactor_todrop = filter_col_by_nan(df_all, narate=0.2)\n",
    "\n",
    "df_select = df_all.drop(list_nullfactor_todrop, axis=1).copy()\n",
    "df_select"
   ],
   "metadata": {
    "collapsed": false
   }
  },
  {
   "cell_type": "code",
   "execution_count": 965,
   "outputs": [
    {
     "data": {
      "text/plain": "       Hospital_code Hospital_type_code City_Code_Hospital  \\\n0                  8                  c                  3   \n1                  2                  c                  5   \n2                 10                  e                  1   \n3                 26                  b                  2   \n4                 26                  b                  2   \n...              ...                ...                ...   \n318433             6                  a                  6   \n318434            24                  a                  1   \n318435             7                  a                  4   \n318436            11                  b                  2   \n318437            19                  a                  7   \n\n       Hospital_region_code  Available Extra Rooms in Hospital    Department  \\\n0                         Z                                  3  radiotherapy   \n1                         Z                                  2  radiotherapy   \n2                         X                                  2    anesthesia   \n3                         Y                                  2  radiotherapy   \n4                         Y                                  2  radiotherapy   \n...                     ...                                ...           ...   \n318433                    X                                  3  radiotherapy   \n318434                    X                                  2    anesthesia   \n318435                    X                                  3    gynecology   \n318436                    Y                                  3    anesthesia   \n318437                    Y                                  5    gynecology   \n\n       Ward_Type Ward_Facility_Code Bed Grade City_Code_Patient  \\\n0              R                  F      2.00              7.00   \n1              S                  F      2.00              7.00   \n2              S                  E      2.00              7.00   \n3              R                  D      2.00              7.00   \n4              S                  D      2.00              7.00   \n...          ...                ...       ...               ...   \n318433         Q                  F      4.00             23.00   \n318434         Q                  E      4.00              8.00   \n318435         R                  F      4.00             10.00   \n318436         Q                  D      3.00              8.00   \n318437         Q                  C      2.00              8.00   \n\n       Type of Admission Severity of Illness  Visitors with Patient    Age  \\\n0              Emergency             Extreme                      2  51-60   \n1                 Trauma             Extreme                      2  51-60   \n2                 Trauma             Extreme                      2  51-60   \n3                 Trauma             Extreme                      2  51-60   \n4                 Trauma             Extreme                      2  51-60   \n...                  ...                 ...                    ...    ...   \n318433         Emergency            Moderate                      3  41-50   \n318434            Urgent            Moderate                      4  81-90   \n318435         Emergency               Minor                      3  71-80   \n318436            Trauma               Minor                      5  11-20   \n318437         Emergency               Minor                      2  11-20   \n\n        Admission_Deposit   Stay  \n0                 4911.00   0-10  \n1                 5954.00  41-50  \n2                 4745.00  31-40  \n3                 7272.00  41-50  \n4                 5558.00  41-50  \n...                   ...    ...  \n318433            4144.00  11-20  \n318434            6699.00  31-40  \n318435            4235.00  11-20  \n318436            3761.00  11-20  \n318437            4752.00   0-10  \n\n[318438 rows x 16 columns]",
      "text/html": "<div>\n<style scoped>\n    .dataframe tbody tr th:only-of-type {\n        vertical-align: middle;\n    }\n\n    .dataframe tbody tr th {\n        vertical-align: top;\n    }\n\n    .dataframe thead th {\n        text-align: right;\n    }\n</style>\n<table border=\"1\" class=\"dataframe\">\n  <thead>\n    <tr style=\"text-align: right;\">\n      <th></th>\n      <th>Hospital_code</th>\n      <th>Hospital_type_code</th>\n      <th>City_Code_Hospital</th>\n      <th>Hospital_region_code</th>\n      <th>Available Extra Rooms in Hospital</th>\n      <th>Department</th>\n      <th>Ward_Type</th>\n      <th>Ward_Facility_Code</th>\n      <th>Bed Grade</th>\n      <th>City_Code_Patient</th>\n      <th>Type of Admission</th>\n      <th>Severity of Illness</th>\n      <th>Visitors with Patient</th>\n      <th>Age</th>\n      <th>Admission_Deposit</th>\n      <th>Stay</th>\n    </tr>\n  </thead>\n  <tbody>\n    <tr>\n      <th>0</th>\n      <td>8</td>\n      <td>c</td>\n      <td>3</td>\n      <td>Z</td>\n      <td>3</td>\n      <td>radiotherapy</td>\n      <td>R</td>\n      <td>F</td>\n      <td>2.00</td>\n      <td>7.00</td>\n      <td>Emergency</td>\n      <td>Extreme</td>\n      <td>2</td>\n      <td>51-60</td>\n      <td>4911.00</td>\n      <td>0-10</td>\n    </tr>\n    <tr>\n      <th>1</th>\n      <td>2</td>\n      <td>c</td>\n      <td>5</td>\n      <td>Z</td>\n      <td>2</td>\n      <td>radiotherapy</td>\n      <td>S</td>\n      <td>F</td>\n      <td>2.00</td>\n      <td>7.00</td>\n      <td>Trauma</td>\n      <td>Extreme</td>\n      <td>2</td>\n      <td>51-60</td>\n      <td>5954.00</td>\n      <td>41-50</td>\n    </tr>\n    <tr>\n      <th>2</th>\n      <td>10</td>\n      <td>e</td>\n      <td>1</td>\n      <td>X</td>\n      <td>2</td>\n      <td>anesthesia</td>\n      <td>S</td>\n      <td>E</td>\n      <td>2.00</td>\n      <td>7.00</td>\n      <td>Trauma</td>\n      <td>Extreme</td>\n      <td>2</td>\n      <td>51-60</td>\n      <td>4745.00</td>\n      <td>31-40</td>\n    </tr>\n    <tr>\n      <th>3</th>\n      <td>26</td>\n      <td>b</td>\n      <td>2</td>\n      <td>Y</td>\n      <td>2</td>\n      <td>radiotherapy</td>\n      <td>R</td>\n      <td>D</td>\n      <td>2.00</td>\n      <td>7.00</td>\n      <td>Trauma</td>\n      <td>Extreme</td>\n      <td>2</td>\n      <td>51-60</td>\n      <td>7272.00</td>\n      <td>41-50</td>\n    </tr>\n    <tr>\n      <th>4</th>\n      <td>26</td>\n      <td>b</td>\n      <td>2</td>\n      <td>Y</td>\n      <td>2</td>\n      <td>radiotherapy</td>\n      <td>S</td>\n      <td>D</td>\n      <td>2.00</td>\n      <td>7.00</td>\n      <td>Trauma</td>\n      <td>Extreme</td>\n      <td>2</td>\n      <td>51-60</td>\n      <td>5558.00</td>\n      <td>41-50</td>\n    </tr>\n    <tr>\n      <th>...</th>\n      <td>...</td>\n      <td>...</td>\n      <td>...</td>\n      <td>...</td>\n      <td>...</td>\n      <td>...</td>\n      <td>...</td>\n      <td>...</td>\n      <td>...</td>\n      <td>...</td>\n      <td>...</td>\n      <td>...</td>\n      <td>...</td>\n      <td>...</td>\n      <td>...</td>\n      <td>...</td>\n    </tr>\n    <tr>\n      <th>318433</th>\n      <td>6</td>\n      <td>a</td>\n      <td>6</td>\n      <td>X</td>\n      <td>3</td>\n      <td>radiotherapy</td>\n      <td>Q</td>\n      <td>F</td>\n      <td>4.00</td>\n      <td>23.00</td>\n      <td>Emergency</td>\n      <td>Moderate</td>\n      <td>3</td>\n      <td>41-50</td>\n      <td>4144.00</td>\n      <td>11-20</td>\n    </tr>\n    <tr>\n      <th>318434</th>\n      <td>24</td>\n      <td>a</td>\n      <td>1</td>\n      <td>X</td>\n      <td>2</td>\n      <td>anesthesia</td>\n      <td>Q</td>\n      <td>E</td>\n      <td>4.00</td>\n      <td>8.00</td>\n      <td>Urgent</td>\n      <td>Moderate</td>\n      <td>4</td>\n      <td>81-90</td>\n      <td>6699.00</td>\n      <td>31-40</td>\n    </tr>\n    <tr>\n      <th>318435</th>\n      <td>7</td>\n      <td>a</td>\n      <td>4</td>\n      <td>X</td>\n      <td>3</td>\n      <td>gynecology</td>\n      <td>R</td>\n      <td>F</td>\n      <td>4.00</td>\n      <td>10.00</td>\n      <td>Emergency</td>\n      <td>Minor</td>\n      <td>3</td>\n      <td>71-80</td>\n      <td>4235.00</td>\n      <td>11-20</td>\n    </tr>\n    <tr>\n      <th>318436</th>\n      <td>11</td>\n      <td>b</td>\n      <td>2</td>\n      <td>Y</td>\n      <td>3</td>\n      <td>anesthesia</td>\n      <td>Q</td>\n      <td>D</td>\n      <td>3.00</td>\n      <td>8.00</td>\n      <td>Trauma</td>\n      <td>Minor</td>\n      <td>5</td>\n      <td>11-20</td>\n      <td>3761.00</td>\n      <td>11-20</td>\n    </tr>\n    <tr>\n      <th>318437</th>\n      <td>19</td>\n      <td>a</td>\n      <td>7</td>\n      <td>Y</td>\n      <td>5</td>\n      <td>gynecology</td>\n      <td>Q</td>\n      <td>C</td>\n      <td>2.00</td>\n      <td>8.00</td>\n      <td>Emergency</td>\n      <td>Minor</td>\n      <td>2</td>\n      <td>11-20</td>\n      <td>4752.00</td>\n      <td>0-10</td>\n    </tr>\n  </tbody>\n</table>\n<p>318438 rows × 16 columns</p>\n</div>"
     },
     "execution_count": 965,
     "metadata": {},
     "output_type": "execute_result"
    }
   ],
   "source": [
    "list_factor_todrop = ['case_id', 'patientid'] #不需要入模的变量列表\n",
    "\n",
    "df_select.drop(list_factor_todrop, axis=1, inplace=True)\n",
    "\n",
    "df_select"
   ],
   "metadata": {
    "collapsed": false
   }
  },
  {
   "cell_type": "code",
   "execution_count": 966,
   "outputs": [
    {
     "ename": "KeyboardInterrupt",
     "evalue": "",
     "output_type": "error",
     "traceback": [
      "\u001B[1;31m---------------------------------------------------------------------------\u001B[0m",
      "\u001B[1;31mKeyboardInterrupt\u001B[0m                         Traceback (most recent call last)",
      "Input \u001B[1;32mIn [966]\u001B[0m, in \u001B[0;36m<cell line: 16>\u001B[1;34m()\u001B[0m\n\u001B[0;32m     10\u001B[0m     \u001B[38;5;28;01mreturn\u001B[39;00m lt_discrete\n\u001B[0;32m     13\u001B[0m \u001B[38;5;66;03m#list_discrete = get_objectfac_list(df_select,False)\u001B[39;00m\n\u001B[0;32m     14\u001B[0m \n\u001B[0;32m     15\u001B[0m \u001B[38;5;66;03m# 情况3，删除离散型变量，有空值的行\u001B[39;00m\n\u001B[1;32m---> 16\u001B[0m \u001B[43mdf_select\u001B[49m\u001B[38;5;241;43m.\u001B[39;49m\u001B[43mdropna\u001B[49m\u001B[43m(\u001B[49m\u001B[43maxis\u001B[49m\u001B[38;5;241;43m=\u001B[39;49m\u001B[38;5;241;43m0\u001B[39;49m\u001B[43m,\u001B[49m\u001B[43minplace\u001B[49m\u001B[38;5;241;43m=\u001B[39;49m\u001B[38;5;28;43;01mTrue\u001B[39;49;00m\u001B[43m)\u001B[49m\n\u001B[0;32m     17\u001B[0m df_select\u001B[38;5;241m.\u001B[39mreset_index(drop\u001B[38;5;241m=\u001B[39m\u001B[38;5;28;01mTrue\u001B[39;00m, inplace\u001B[38;5;241m=\u001B[39m\u001B[38;5;28;01mTrue\u001B[39;00m)\n\u001B[0;32m     19\u001B[0m df_select\n",
      "File \u001B[1;32m~\\anaconda3\\lib\\site-packages\\pandas\\util\\_decorators.py:311\u001B[0m, in \u001B[0;36mdeprecate_nonkeyword_arguments.<locals>.decorate.<locals>.wrapper\u001B[1;34m(*args, **kwargs)\u001B[0m\n\u001B[0;32m    305\u001B[0m \u001B[38;5;28;01mif\u001B[39;00m \u001B[38;5;28mlen\u001B[39m(args) \u001B[38;5;241m>\u001B[39m num_allow_args:\n\u001B[0;32m    306\u001B[0m     warnings\u001B[38;5;241m.\u001B[39mwarn(\n\u001B[0;32m    307\u001B[0m         msg\u001B[38;5;241m.\u001B[39mformat(arguments\u001B[38;5;241m=\u001B[39marguments),\n\u001B[0;32m    308\u001B[0m         \u001B[38;5;167;01mFutureWarning\u001B[39;00m,\n\u001B[0;32m    309\u001B[0m         stacklevel\u001B[38;5;241m=\u001B[39mstacklevel,\n\u001B[0;32m    310\u001B[0m     )\n\u001B[1;32m--> 311\u001B[0m \u001B[38;5;28;01mreturn\u001B[39;00m func(\u001B[38;5;241m*\u001B[39margs, \u001B[38;5;241m*\u001B[39m\u001B[38;5;241m*\u001B[39mkwargs)\n",
      "File \u001B[1;32m~\\anaconda3\\lib\\site-packages\\pandas\\core\\frame.py:6010\u001B[0m, in \u001B[0;36mDataFrame.dropna\u001B[1;34m(self, axis, how, thresh, subset, inplace)\u001B[0m\n\u001B[0;32m   6007\u001B[0m     mask \u001B[38;5;241m=\u001B[39m count \u001B[38;5;241m>\u001B[39m\u001B[38;5;241m=\u001B[39m thresh\n\u001B[0;32m   6008\u001B[0m \u001B[38;5;28;01melif\u001B[39;00m how \u001B[38;5;241m==\u001B[39m \u001B[38;5;124m\"\u001B[39m\u001B[38;5;124many\u001B[39m\u001B[38;5;124m\"\u001B[39m:\n\u001B[0;32m   6009\u001B[0m     \u001B[38;5;66;03m# faster equivalent to 'agg_obj.count(agg_axis) == self.shape[agg_axis]'\u001B[39;00m\n\u001B[1;32m-> 6010\u001B[0m     mask \u001B[38;5;241m=\u001B[39m \u001B[43mnotna\u001B[49m\u001B[43m(\u001B[49m\u001B[43magg_obj\u001B[49m\u001B[43m)\u001B[49m\u001B[38;5;241m.\u001B[39mall(axis\u001B[38;5;241m=\u001B[39magg_axis, bool_only\u001B[38;5;241m=\u001B[39m\u001B[38;5;28;01mFalse\u001B[39;00m)\n\u001B[0;32m   6011\u001B[0m \u001B[38;5;28;01melif\u001B[39;00m how \u001B[38;5;241m==\u001B[39m \u001B[38;5;124m\"\u001B[39m\u001B[38;5;124mall\u001B[39m\u001B[38;5;124m\"\u001B[39m:\n\u001B[0;32m   6012\u001B[0m     \u001B[38;5;66;03m# faster equivalent to 'agg_obj.count(agg_axis) > 0'\u001B[39;00m\n\u001B[0;32m   6013\u001B[0m     mask \u001B[38;5;241m=\u001B[39m notna(agg_obj)\u001B[38;5;241m.\u001B[39many(axis\u001B[38;5;241m=\u001B[39magg_axis, bool_only\u001B[38;5;241m=\u001B[39m\u001B[38;5;28;01mFalse\u001B[39;00m)\n",
      "File \u001B[1;32m~\\anaconda3\\lib\\site-packages\\pandas\\core\\dtypes\\missing.py:364\u001B[0m, in \u001B[0;36mnotna\u001B[1;34m(obj)\u001B[0m\n\u001B[0;32m    287\u001B[0m \u001B[38;5;28;01mdef\u001B[39;00m \u001B[38;5;21mnotna\u001B[39m(obj):\n\u001B[0;32m    288\u001B[0m     \u001B[38;5;124;03m\"\"\"\u001B[39;00m\n\u001B[0;32m    289\u001B[0m \u001B[38;5;124;03m    Detect non-missing values for an array-like object.\u001B[39;00m\n\u001B[0;32m    290\u001B[0m \n\u001B[1;32m   (...)\u001B[0m\n\u001B[0;32m    362\u001B[0m \u001B[38;5;124;03m    Name: 1, dtype: bool\u001B[39;00m\n\u001B[0;32m    363\u001B[0m \u001B[38;5;124;03m    \"\"\"\u001B[39;00m\n\u001B[1;32m--> 364\u001B[0m     res \u001B[38;5;241m=\u001B[39m \u001B[43misna\u001B[49m\u001B[43m(\u001B[49m\u001B[43mobj\u001B[49m\u001B[43m)\u001B[49m\n\u001B[0;32m    365\u001B[0m     \u001B[38;5;28;01mif\u001B[39;00m is_scalar(res):\n\u001B[0;32m    366\u001B[0m         \u001B[38;5;28;01mreturn\u001B[39;00m \u001B[38;5;129;01mnot\u001B[39;00m res\n",
      "File \u001B[1;32m~\\anaconda3\\lib\\site-packages\\pandas\\core\\dtypes\\missing.py:143\u001B[0m, in \u001B[0;36misna\u001B[1;34m(obj)\u001B[0m\n\u001B[0;32m     66\u001B[0m \u001B[38;5;28;01mdef\u001B[39;00m \u001B[38;5;21misna\u001B[39m(obj):\n\u001B[0;32m     67\u001B[0m     \u001B[38;5;124;03m\"\"\"\u001B[39;00m\n\u001B[0;32m     68\u001B[0m \u001B[38;5;124;03m    Detect missing values for an array-like object.\u001B[39;00m\n\u001B[0;32m     69\u001B[0m \n\u001B[1;32m   (...)\u001B[0m\n\u001B[0;32m    141\u001B[0m \u001B[38;5;124;03m    Name: 1, dtype: bool\u001B[39;00m\n\u001B[0;32m    142\u001B[0m \u001B[38;5;124;03m    \"\"\"\u001B[39;00m\n\u001B[1;32m--> 143\u001B[0m     \u001B[38;5;28;01mreturn\u001B[39;00m \u001B[43m_isna\u001B[49m\u001B[43m(\u001B[49m\u001B[43mobj\u001B[49m\u001B[43m)\u001B[49m\n",
      "File \u001B[1;32m~\\anaconda3\\lib\\site-packages\\pandas\\core\\dtypes\\missing.py:186\u001B[0m, in \u001B[0;36m_isna\u001B[1;34m(obj, inf_as_na)\u001B[0m\n\u001B[0;32m    184\u001B[0m     \u001B[38;5;28;01mreturn\u001B[39;00m result\n\u001B[0;32m    185\u001B[0m \u001B[38;5;28;01melif\u001B[39;00m \u001B[38;5;28misinstance\u001B[39m(obj, ABCDataFrame):\n\u001B[1;32m--> 186\u001B[0m     \u001B[38;5;28;01mreturn\u001B[39;00m \u001B[43mobj\u001B[49m\u001B[38;5;241;43m.\u001B[39;49m\u001B[43misna\u001B[49m\u001B[43m(\u001B[49m\u001B[43m)\u001B[49m\n\u001B[0;32m    187\u001B[0m \u001B[38;5;28;01melif\u001B[39;00m \u001B[38;5;28misinstance\u001B[39m(obj, \u001B[38;5;28mlist\u001B[39m):\n\u001B[0;32m    188\u001B[0m     \u001B[38;5;28;01mreturn\u001B[39;00m _isna_array(np\u001B[38;5;241m.\u001B[39masarray(obj, dtype\u001B[38;5;241m=\u001B[39m\u001B[38;5;28mobject\u001B[39m), inf_as_na\u001B[38;5;241m=\u001B[39minf_as_na)\n",
      "File \u001B[1;32m~\\anaconda3\\lib\\site-packages\\pandas\\core\\frame.py:5852\u001B[0m, in \u001B[0;36mDataFrame.isna\u001B[1;34m(self)\u001B[0m\n\u001B[0;32m   5850\u001B[0m \u001B[38;5;129m@doc\u001B[39m(NDFrame\u001B[38;5;241m.\u001B[39misna, klass\u001B[38;5;241m=\u001B[39m_shared_doc_kwargs[\u001B[38;5;124m\"\u001B[39m\u001B[38;5;124mklass\u001B[39m\u001B[38;5;124m\"\u001B[39m])\n\u001B[0;32m   5851\u001B[0m \u001B[38;5;28;01mdef\u001B[39;00m \u001B[38;5;21misna\u001B[39m(\u001B[38;5;28mself\u001B[39m) \u001B[38;5;241m-\u001B[39m\u001B[38;5;241m>\u001B[39m DataFrame:\n\u001B[1;32m-> 5852\u001B[0m     result \u001B[38;5;241m=\u001B[39m \u001B[38;5;28mself\u001B[39m\u001B[38;5;241m.\u001B[39m_constructor(\u001B[38;5;28;43mself\u001B[39;49m\u001B[38;5;241;43m.\u001B[39;49m\u001B[43m_mgr\u001B[49m\u001B[38;5;241;43m.\u001B[39;49m\u001B[43misna\u001B[49m\u001B[43m(\u001B[49m\u001B[43mfunc\u001B[49m\u001B[38;5;241;43m=\u001B[39;49m\u001B[43misna\u001B[49m\u001B[43m)\u001B[49m)\n\u001B[0;32m   5853\u001B[0m     \u001B[38;5;28;01mreturn\u001B[39;00m result\u001B[38;5;241m.\u001B[39m__finalize__(\u001B[38;5;28mself\u001B[39m, method\u001B[38;5;241m=\u001B[39m\u001B[38;5;124m\"\u001B[39m\u001B[38;5;124misna\u001B[39m\u001B[38;5;124m\"\u001B[39m)\n",
      "File \u001B[1;32m~\\anaconda3\\lib\\site-packages\\pandas\\core\\internals\\base.py:145\u001B[0m, in \u001B[0;36mDataManager.isna\u001B[1;34m(self, func)\u001B[0m\n\u001B[0;32m    143\u001B[0m \u001B[38;5;129m@final\u001B[39m\n\u001B[0;32m    144\u001B[0m \u001B[38;5;28;01mdef\u001B[39;00m \u001B[38;5;21misna\u001B[39m(\u001B[38;5;28mself\u001B[39m: T, func) \u001B[38;5;241m-\u001B[39m\u001B[38;5;241m>\u001B[39m T:\n\u001B[1;32m--> 145\u001B[0m     \u001B[38;5;28;01mreturn\u001B[39;00m \u001B[38;5;28;43mself\u001B[39;49m\u001B[38;5;241;43m.\u001B[39;49m\u001B[43mapply\u001B[49m\u001B[43m(\u001B[49m\u001B[38;5;124;43m\"\u001B[39;49m\u001B[38;5;124;43mapply\u001B[39;49m\u001B[38;5;124;43m\"\u001B[39;49m\u001B[43m,\u001B[49m\u001B[43m \u001B[49m\u001B[43mfunc\u001B[49m\u001B[38;5;241;43m=\u001B[39;49m\u001B[43mfunc\u001B[49m\u001B[43m)\u001B[49m\n",
      "File \u001B[1;32m~\\anaconda3\\lib\\site-packages\\pandas\\core\\internals\\managers.py:304\u001B[0m, in \u001B[0;36mBaseBlockManager.apply\u001B[1;34m(self, f, align_keys, ignore_failures, **kwargs)\u001B[0m\n\u001B[0;32m    302\u001B[0m         applied \u001B[38;5;241m=\u001B[39m b\u001B[38;5;241m.\u001B[39mapply(f, \u001B[38;5;241m*\u001B[39m\u001B[38;5;241m*\u001B[39mkwargs)\n\u001B[0;32m    303\u001B[0m     \u001B[38;5;28;01melse\u001B[39;00m:\n\u001B[1;32m--> 304\u001B[0m         applied \u001B[38;5;241m=\u001B[39m \u001B[38;5;28mgetattr\u001B[39m(b, f)(\u001B[38;5;241m*\u001B[39m\u001B[38;5;241m*\u001B[39mkwargs)\n\u001B[0;32m    305\u001B[0m \u001B[38;5;28;01mexcept\u001B[39;00m (\u001B[38;5;167;01mTypeError\u001B[39;00m, \u001B[38;5;167;01mNotImplementedError\u001B[39;00m):\n\u001B[0;32m    306\u001B[0m     \u001B[38;5;28;01mif\u001B[39;00m \u001B[38;5;129;01mnot\u001B[39;00m ignore_failures:\n",
      "File \u001B[1;32m~\\anaconda3\\lib\\site-packages\\pandas\\core\\internals\\blocks.py:402\u001B[0m, in \u001B[0;36mBlock.apply\u001B[1;34m(self, func, **kwargs)\u001B[0m\n\u001B[0;32m    396\u001B[0m \u001B[38;5;129m@final\u001B[39m\n\u001B[0;32m    397\u001B[0m \u001B[38;5;28;01mdef\u001B[39;00m \u001B[38;5;21mapply\u001B[39m(\u001B[38;5;28mself\u001B[39m, func, \u001B[38;5;241m*\u001B[39m\u001B[38;5;241m*\u001B[39mkwargs) \u001B[38;5;241m-\u001B[39m\u001B[38;5;241m>\u001B[39m \u001B[38;5;28mlist\u001B[39m[Block]:\n\u001B[0;32m    398\u001B[0m     \u001B[38;5;124;03m\"\"\"\u001B[39;00m\n\u001B[0;32m    399\u001B[0m \u001B[38;5;124;03m    apply the function to my values; return a block if we are not\u001B[39;00m\n\u001B[0;32m    400\u001B[0m \u001B[38;5;124;03m    one\u001B[39;00m\n\u001B[0;32m    401\u001B[0m \u001B[38;5;124;03m    \"\"\"\u001B[39;00m\n\u001B[1;32m--> 402\u001B[0m     result \u001B[38;5;241m=\u001B[39m func(\u001B[38;5;28mself\u001B[39m\u001B[38;5;241m.\u001B[39mvalues, \u001B[38;5;241m*\u001B[39m\u001B[38;5;241m*\u001B[39mkwargs)\n\u001B[0;32m    404\u001B[0m     \u001B[38;5;28;01mreturn\u001B[39;00m \u001B[38;5;28mself\u001B[39m\u001B[38;5;241m.\u001B[39m_split_op_result(result)\n",
      "File \u001B[1;32m~\\anaconda3\\lib\\site-packages\\pandas\\core\\dtypes\\missing.py:143\u001B[0m, in \u001B[0;36misna\u001B[1;34m(obj)\u001B[0m\n\u001B[0;32m     66\u001B[0m \u001B[38;5;28;01mdef\u001B[39;00m \u001B[38;5;21misna\u001B[39m(obj):\n\u001B[0;32m     67\u001B[0m     \u001B[38;5;124;03m\"\"\"\u001B[39;00m\n\u001B[0;32m     68\u001B[0m \u001B[38;5;124;03m    Detect missing values for an array-like object.\u001B[39;00m\n\u001B[0;32m     69\u001B[0m \n\u001B[1;32m   (...)\u001B[0m\n\u001B[0;32m    141\u001B[0m \u001B[38;5;124;03m    Name: 1, dtype: bool\u001B[39;00m\n\u001B[0;32m    142\u001B[0m \u001B[38;5;124;03m    \"\"\"\u001B[39;00m\n\u001B[1;32m--> 143\u001B[0m     \u001B[38;5;28;01mreturn\u001B[39;00m \u001B[43m_isna\u001B[49m\u001B[43m(\u001B[49m\u001B[43mobj\u001B[49m\u001B[43m)\u001B[49m\n",
      "File \u001B[1;32m~\\anaconda3\\lib\\site-packages\\pandas\\core\\dtypes\\missing.py:172\u001B[0m, in \u001B[0;36m_isna\u001B[1;34m(obj, inf_as_na)\u001B[0m\n\u001B[0;32m    170\u001B[0m     \u001B[38;5;28;01mreturn\u001B[39;00m \u001B[38;5;28;01mFalse\u001B[39;00m\n\u001B[0;32m    171\u001B[0m \u001B[38;5;28;01melif\u001B[39;00m \u001B[38;5;28misinstance\u001B[39m(obj, (np\u001B[38;5;241m.\u001B[39mndarray, ABCExtensionArray)):\n\u001B[1;32m--> 172\u001B[0m     \u001B[38;5;28;01mreturn\u001B[39;00m \u001B[43m_isna_array\u001B[49m\u001B[43m(\u001B[49m\u001B[43mobj\u001B[49m\u001B[43m,\u001B[49m\u001B[43m \u001B[49m\u001B[43minf_as_na\u001B[49m\u001B[38;5;241;43m=\u001B[39;49m\u001B[43minf_as_na\u001B[49m\u001B[43m)\u001B[49m\n\u001B[0;32m    173\u001B[0m \u001B[38;5;28;01melif\u001B[39;00m \u001B[38;5;28misinstance\u001B[39m(obj, ABCIndex):\n\u001B[0;32m    174\u001B[0m     \u001B[38;5;66;03m# Try to use cached isna, which also short-circuits for integer dtypes\u001B[39;00m\n\u001B[0;32m    175\u001B[0m     \u001B[38;5;66;03m#  and avoids materializing RangeIndex._values\u001B[39;00m\n\u001B[0;32m    176\u001B[0m     \u001B[38;5;28;01mif\u001B[39;00m \u001B[38;5;129;01mnot\u001B[39;00m obj\u001B[38;5;241m.\u001B[39m_can_hold_na:\n",
      "File \u001B[1;32m~\\anaconda3\\lib\\site-packages\\pandas\\core\\dtypes\\missing.py:254\u001B[0m, in \u001B[0;36m_isna_array\u001B[1;34m(values, inf_as_na)\u001B[0m\n\u001B[0;32m    252\u001B[0m         result \u001B[38;5;241m=\u001B[39m values\u001B[38;5;241m.\u001B[39misna()  \u001B[38;5;66;03m# type: ignore[assignment]\u001B[39;00m\n\u001B[0;32m    253\u001B[0m \u001B[38;5;28;01melif\u001B[39;00m is_string_or_object_np_dtype(values\u001B[38;5;241m.\u001B[39mdtype):\n\u001B[1;32m--> 254\u001B[0m     result \u001B[38;5;241m=\u001B[39m \u001B[43m_isna_string_dtype\u001B[49m\u001B[43m(\u001B[49m\u001B[43mvalues\u001B[49m\u001B[43m,\u001B[49m\u001B[43m \u001B[49m\u001B[43minf_as_na\u001B[49m\u001B[38;5;241;43m=\u001B[39;49m\u001B[43minf_as_na\u001B[49m\u001B[43m)\u001B[49m\n\u001B[0;32m    255\u001B[0m \u001B[38;5;28;01melif\u001B[39;00m needs_i8_conversion(dtype):\n\u001B[0;32m    256\u001B[0m     \u001B[38;5;66;03m# this is the NaT pattern\u001B[39;00m\n\u001B[0;32m    257\u001B[0m     result \u001B[38;5;241m=\u001B[39m values\u001B[38;5;241m.\u001B[39mview(\u001B[38;5;124m\"\u001B[39m\u001B[38;5;124mi8\u001B[39m\u001B[38;5;124m\"\u001B[39m) \u001B[38;5;241m==\u001B[39m iNaT\n",
      "\u001B[1;31mKeyboardInterrupt\u001B[0m: "
     ]
    }
   ],
   "source": [
    "# 定义函数，返回离散型函数变量名列表, 并查看映射值数量情况\n",
    "def get_objectfac_list(data ,print_value=False):\n",
    "    lt_discrete = []\n",
    "    for col in data.columns:\n",
    "        if str(data[col].dtype) == 'object':\n",
    "            lt_discrete.append(col)\n",
    "            if print_value == True:\n",
    "                print(data[col].value_counts())\n",
    "                print(f'-' * 50)\n",
    "    return lt_discrete\n",
    "\n",
    "\n",
    "#list_discrete = get_objectfac_list(df_select,False)\n",
    "\n",
    "# 情况3，删除离散型变量，有空值的行\n",
    "df_select.dropna(axis=0,inplace=True)\n",
    "df_select.reset_index(drop=True, inplace=True)\n",
    "\n",
    "df_select"
   ],
   "metadata": {
    "collapsed": false
   }
  },
  {
   "cell_type": "code",
   "execution_count": null,
   "outputs": [],
   "source": [
    "# 需要对数据进行划分\n",
    "\n",
    "# ① 取数值、连续类型的数据\n",
    "list_train_num = ['Available Extra Rooms in Hospital','Visitors with Patient','Admission_Deposit']\n",
    "\n",
    "# ②取文本/离散、无需独热编码 类型的数据（类似 住宅类型、就业类型 等字段）\n",
    "list_train_str = ['Bed Grade','Type of Admission','Type of Admission','Age']\n",
    "\n",
    "# ③取文本/离散、需 独热编码 类型的数据（类似 教育水平分类 等变量）\n",
    "list_train_str_needtrf = ['Hospital_code','Hospital_type_code','City_Code_Hospital','Hospital_region_code','Department','Ward_Type','Ward_Facility_Code','City_Code_Patient','Type of Admission','Severity of Illness']\n",
    "\n",
    "# 查看训练集空值情况（此时只剩数值型空值，其他类型的数据都被处理了）\n",
    "df_select[df_select.isnull().any(axis=1)].head()\n",
    "df_select"
   ],
   "metadata": {
    "collapsed": false
   }
  },
  {
   "cell_type": "code",
   "execution_count": null,
   "outputs": [],
   "source": [
    "# Distribution of numeric independent variables\n",
    "\n",
    "from matplotlib import pyplot as plt\n",
    "\n",
    "plt.figure(figsize=(15,8))\n",
    "\n",
    "df_select.drop('Stay', axis = 1).hist()\n",
    "plt.tight_layout()\n",
    "plt.show()\n",
    "\n",
    "print('Skewness:')\n",
    "df_select.drop('Stay', axis = 1).skew()"
   ],
   "metadata": {
    "collapsed": false
   }
  },
  {
   "cell_type": "code",
   "execution_count": null,
   "outputs": [],
   "source": [
    "import seaborn as sns\n",
    "\n",
    "# Univariate Analysis\n",
    "df_select['Stay'] .replace('More than 100 Days', '>100', inplace=True)\n",
    "\n",
    "for i in [ 'Stay', 'Department', 'Available Extra Rooms in Hospital', 'Ward_Type' ,'Ward_Facility_Code', 'Age',\n",
    "          'Type of Admission', 'Severity of Illness', 'Bed Grade', 'Hospital_region_code', 'Hospital_type_code' ,\n",
    "          'City_Code_Hospital', 'Hospital_code', 'City_Code_Patient', 'Visitors with Patient']:\n",
    "            count = df_select[i].value_counts()\n",
    "\n",
    "            plt.figure(figsize=(10,5))\n",
    "\n",
    "            sns.barplot(x=count.index.values, y=count.values,data=df_select)\n",
    "\n",
    "            plt.xlabel(i)\n",
    "            plt.ylabel('No of occurences')"
   ],
   "metadata": {
    "collapsed": false
   }
  },
  {
   "cell_type": "code",
   "execution_count": null,
   "outputs": [],
   "source": [
    "# Bivariate Analysis\n",
    "\n",
    "for i in [ 'Department', 'Ward_Type' ,'Ward_Facility_Code', 'Age', 'Type of Admission', 'Severity of Illness',\n",
    "          'Bed Grade', 'Hospital_region_code', 'Hospital_type_code' ]:\n",
    "\n",
    "            plt.figure(figsize=(10,5))\n",
    "\n",
    "            sns.countplot(x='Stay',hue=i,data=df_select)"
   ],
   "metadata": {
    "collapsed": false
   }
  },
  {
   "cell_type": "code",
   "execution_count": null,
   "outputs": [],
   "source": [
    "# Numerical Features\n",
    "sns.distplot( df_select['Admission_Deposit'])\n",
    "\n"
   ],
   "metadata": {
    "collapsed": false
   }
  },
  {
   "cell_type": "code",
   "execution_count": null,
   "outputs": [],
   "source": [
    "df_num_train = df_select.select_dtypes([np.number])\n",
    "df_num_train.head()\n",
    "df_cat_train = df_select.select_dtypes([object])\n",
    "df_cat_train.head()"
   ],
   "metadata": {
    "collapsed": false
   }
  },
  {
   "cell_type": "code",
   "execution_count": null,
   "outputs": [],
   "source": [
    "# df_cat_train['Stay']"
   ],
   "metadata": {
    "collapsed": false
   }
  },
  {
   "cell_type": "code",
   "execution_count": null,
   "outputs": [],
   "source": [
    "# Encoding\n",
    "admission_encode = {'Trauma': 1, 'Urgent': 2, 'Emergency': 3}\n",
    "severity_encode = {'Minor': 1, 'Moderate': 2, 'Extreme': 3}\n",
    "\n",
    "df_cat_train['Type of Admission'] = df_cat_train['Type of Admission'].map(admission_encode)\n",
    "df_cat_train['Severity of Illness'] = df_cat_train['Severity of Illness'].map(severity_encode)\n",
    "\n",
    "df_cat_train['Age'] = df_cat_train['Age'].replace(\n",
    "    {'0-10': 1, '11-20': 2, '21-30': 3, '31-40': 4, '41-50': 5, '51-60': 6, '61-70': 7,\n",
    "     '71-80': 8, '81-90': 9, '91-100': 10})\n",
    "\n",
    "df_cat_train['Stay'] = df_cat_train['Stay'].replace(\n",
    "    {'0-10': 1, '11-20': 2, '21-30': 3, '31-40': 4, '41-50': 5, '51-60': 6, '61-70': 7,\n",
    "     '71-80': 8, '81-90': 9, '91-100': 10, '>100': 11})\n",
    "\n",
    "# df_cat_train['Stay'] = df_cat_train['Stay'].astype(int)\n"
   ],
   "metadata": {
    "collapsed": false
   }
  },
  {
   "cell_type": "code",
   "execution_count": null,
   "outputs": [],
   "source": [
    "from sklearn.preprocessing import LabelEncoder\n",
    "LE=LabelEncoder()\n",
    "\n",
    "df_cat_train['Hospital_code']=LE.fit_transform(df_cat_train['Hospital_code'])\n",
    "df_cat_train['Hospital_type_code']=LE.fit_transform(df_cat_train['Hospital_type_code'])\n",
    "df_cat_train['City_Code_Hospital']=LE.fit_transform(df_cat_train['City_Code_Hospital'])\n",
    "df_cat_train['Hospital_region_code']=LE.fit_transform(df_cat_train['Hospital_region_code'])\n",
    "df_cat_train['Department']=LE.fit_transform(df_cat_train['Department'])\n",
    "df_cat_train['Ward_Type']=LE.fit_transform(df_cat_train['Ward_Type'])\n",
    "df_cat_train['Ward_Facility_Code']=LE.fit_transform(df_cat_train['Ward_Facility_Code'])\n",
    "df_cat_train['City_Code_Patient']=LE.fit_transform(df_cat_train['City_Code_Patient'])\n",
    "df_cat_train['Bed Grade']=LE.fit_transform(df_cat_train['Bed Grade'])\n",
    "\n",
    "df_cat_train.head()"
   ],
   "metadata": {
    "collapsed": false
   }
  },
  {
   "cell_type": "code",
   "execution_count": null,
   "outputs": [],
   "source": [
    "from sklearn.preprocessing import StandardScaler\n",
    "# For training Data\n",
    "sc = StandardScaler()\n",
    "\n",
    "num_scaled = sc.fit_transform(df_num_train)\n",
    "num_scaled"
   ],
   "metadata": {
    "collapsed": false
   }
  },
  {
   "cell_type": "code",
   "execution_count": null,
   "outputs": [],
   "source": [
    "df_num_scaled = pd.DataFrame(num_scaled, columns = df_num_train.columns)\n",
    "df_num_scaled = df_num_scaled.reset_index(drop=True)\n",
    "df_num_scaled"
   ],
   "metadata": {
    "collapsed": false
   }
  },
  {
   "cell_type": "code",
   "execution_count": null,
   "outputs": [],
   "source": [
    "df_full = pd.concat([df_num_scaled, df_cat_train],axis=1)\n",
    "df_full.shape\n"
   ],
   "metadata": {
    "collapsed": false
   }
  },
  {
   "cell_type": "code",
   "execution_count": null,
   "outputs": [],
   "source": [
    "sns.heatmap(df_full.corr(), annot = True)"
   ],
   "metadata": {
    "collapsed": false
   }
  },
  {
   "cell_type": "code",
   "execution_count": null,
   "outputs": [],
   "source": [
    "# 数据清洗函数定义\n",
    "from sklearn.impute import SimpleImputer\n",
    "from sklearn.base import BaseEstimator, TransformerMixin\n",
    "from sklearn.preprocessing import LabelEncoder\n",
    "from sklearn.preprocessing import LabelBinarizer\n",
    "from sklearn.utils import check_array\n",
    "from scipy import sparse\n",
    "\n",
    "\n",
    "class CategoricalEncoder(BaseEstimator, TransformerMixin):\n",
    "    \"\"\"将分类特征编码为数字数组。\n",
    "    此函数输入 分类的整数矩阵 或 字符串矩阵,\n",
    "    将把分类（离散）特征所具有的值转化为数组\n",
    "\n",
    "    \"\"\"\n",
    "\n",
    "    def __init__(self, encoding='onehot', categories='auto', dtype=np.float64,\n",
    "                 handle_unknown='error'):\n",
    "        self.encoding = encoding\n",
    "        self.categories = categories\n",
    "        self.dtype = dtype\n",
    "        self.handle_unknown = handle_unknown\n",
    "\n",
    "    def fit(self, X, y=None):\n",
    "        \"\"\"Fit the CategoricalEncoder to X.\n",
    "        Parameters\n",
    "        ----------\n",
    "        X : array-like, shape [n_samples, n_feature]\n",
    "            The data to determine the categories of each feature.\n",
    "        Returns\n",
    "        -------\n",
    "        self\n",
    "        \"\"\"\n",
    "\n",
    "        # 报错预警\n",
    "        if self.encoding not in ['onehot', 'onehot-dense', 'ordinal']:\n",
    "            template = (\"encoding should be either 'onehot', 'onehot-dense' \"\n",
    "                        \"or 'ordinal', got %s\")\n",
    "            raise ValueError(template % self.handle_unknown)\n",
    "\n",
    "        if self.handle_unknown not in ['error', 'ignore']:\n",
    "            template = (\"handle_unknown should be either 'error' or \"\n",
    "                        \"'ignore', got %s\")\n",
    "            raise ValueError(template % self.handle_unknown)\n",
    "\n",
    "        if self.encoding == 'ordinal' and self.handle_unknown == 'ignore':\n",
    "            raise ValueError(\"handle_unknown='ignore' is not supported for\"\n",
    "                             \" encoding='ordinal'\")\n",
    "\n",
    "        X = check_array(X, dtype=np.object, accept_sparse='csc', copy=True)\n",
    "        n_samples, n_features = X.shape # n_samples 样本数，n_features 特征数\n",
    "\n",
    "        self._label_encoders_ = [LabelEncoder() for n_f in range(n_features)]\n",
    "\n",
    "        for i in range(n_features):\n",
    "            le = self._label_encoders_[i]\n",
    "            Xi = X[:, i]\n",
    "            if self.categories == 'auto':\n",
    "                le.fit(Xi)\n",
    "            else:\n",
    "                valid_mask = np.in1d(Xi, self.categories[i])\n",
    "                if not np.all(valid_mask):\n",
    "                    if self.handle_unknown == 'error':\n",
    "                        diff = np.unique(Xi[~valid_mask])\n",
    "                        msg = (\"Found unknown categories {0} in column {1}\"\n",
    "                               \" during fit\".format(diff, i))\n",
    "                        raise ValueError(msg)\n",
    "                le.classes_ = np.array(np.sort(self.categories[i]))\n",
    "\n",
    "        self.categories_ = [le.classes_ for le in self._label_encoders_]\n",
    "\n",
    "        return self\n",
    "\n",
    "    def transform(self, X):\n",
    "        \"\"\"Transform X using one-hot encoding.\n",
    "        Parameters\n",
    "        ----------\n",
    "        X : array-like, shape [n_samples, n_features]\n",
    "            The data to encode.\n",
    "        Returns\n",
    "        -------\n",
    "        X_out : sparse matrix or a 2-d array\n",
    "            Transformed input.\n",
    "        \"\"\"\n",
    "        X = check_array(X, accept_sparse='csc', dtype=np.object, copy=True)\n",
    "        n_samples, n_features = X.shape\n",
    "\n",
    "\n",
    "        X_int = np.zeros_like(X, dtype=np.int) # 构建一个和 X 维度相同的(一毛一样)  整数零矩阵\n",
    "        X_mask = np.ones_like(X, dtype=np.bool) # 构建一个和 X 维度相同的(一毛一样)   布尔矩阵\n",
    "\n",
    "        for i in range(n_features): # 对每个变量开始循环\n",
    "            valid_mask = np.in1d(X[:, i], self.categories_[i]) # 每个变量的每一行，去验证是否是是此变量unqiue中的一个，是返回True\n",
    "\n",
    "            if not np.all(valid_mask):\n",
    "                if self.handle_unknown == 'error':\n",
    "                    diff = np.unique(X[~valid_mask, i])\n",
    "                    msg = (\"Found unknown categories {0} in column {1}\"\n",
    "                           \" during transform\".format(diff, i))\n",
    "                    raise ValueError(msg)\n",
    "                else:\n",
    "                    # Set the problematic rows to an acceptable value and\n",
    "                    # continue `The rows are marked `X_mask` and will be\n",
    "                    # removed later.\n",
    "                    X_mask[:, i] = valid_mask # unique矩阵赋予X_mask\n",
    "                    X[:, i][~valid_mask] = self.categories_[i][0]\n",
    "            X_int[:, i] = self._label_encoders_[i].transform(X[:, i])\n",
    "\n",
    "        if self.encoding == 'ordinal':\n",
    "            return X_int.astype(self.dtype, copy=False)\n",
    "\n",
    "        mask = X_mask.ravel() # .ravel()将矩阵向量化\n",
    "\n",
    "        n_values = [cats.shape[0] for cats in self.categories_]\n",
    "\n",
    "        n_values = np.array([0] + n_values)\n",
    "        indices = np.cumsum(n_values)\n",
    "\n",
    "        column_indices = (X_int + indices[:-1]).ravel()[mask] # 找到该变量某个离散值中的所有的列索引\n",
    "        row_indices = np.repeat(np.arange(n_samples, dtype=np.int32),\n",
    "                                n_features)[mask]\n",
    "        data = np.ones(n_samples * n_features)[mask]\n",
    "\n",
    "\n",
    "        out = sparse.csc_matrix((data, (row_indices, column_indices)),\n",
    "                                shape=(n_samples, indices[-1]),\n",
    "                                dtype=self.dtype).tocsr()\n",
    "        # out = out[:,1:] # 这里为one_hot,如果要转换成哑变量需要将状态进行k-1删除，防止虚拟陷阱！\n",
    "\n",
    "        if self.encoding == 'onehot-dense':\n",
    "            return out.toarray()\n",
    "        else:\n",
    "            return out"
   ],
   "metadata": {
    "collapsed": false
   }
  },
  {
   "cell_type": "code",
   "execution_count": null,
   "outputs": [],
   "source": [
    "class DataFrameSelector(BaseEstimator, TransformerMixin):\n",
    "    def __init__(self, attribute_names):\n",
    "        self.attribute_names = attribute_names\n",
    "    def fit(self, X, y=None):\n",
    "        return self\n",
    "    def transform(self, X):\n",
    "        return X[self.attribute_names].values"
   ],
   "metadata": {
    "collapsed": false
   }
  },
  {
   "cell_type": "code",
   "execution_count": null,
   "outputs": [],
   "source": [
    "class ExeLabelEncoder(BaseEstimator, TransformerMixin):\n",
    "    def __init__(self):\n",
    "        self._stretltype = 1\n",
    "\n",
    "    def fit(self, X, y=None):\n",
    "        return self\n",
    "\n",
    "    def transform(self, X):\n",
    "\n",
    "        encoder = LabelEncoder()\n",
    "        n_samples, n_features = X.shape\n",
    "        arr = np.zeros_like(X, dtype=np.int)\n",
    "\n",
    "        for whlist in range(X.shape[1]):\n",
    "            arr[:, whlist] = encoder.fit_transform(X[:, whlist])\n",
    "        return arr"
   ],
   "metadata": {
    "collapsed": false
   }
  },
  {
   "cell_type": "code",
   "execution_count": null,
   "outputs": [],
   "source": [
    "from sklearn.model_selection import train_test_split\n",
    "import statsmodels.api as sm\n"
   ],
   "metadata": {
    "collapsed": false
   }
  },
  {
   "cell_type": "code",
   "execution_count": null,
   "outputs": [],
   "source": [
    "X = df_full.drop('Stay',axis=1)\n",
    "Y = df_full['Stay']\n",
    "\n",
    "X = sm.add_constant(X)\n",
    "\n",
    "Xtrain, Xtest, Ytrain, Ytest = train_test_split(X, Y, random_state = 10, test_size = 0.3)\n",
    "\n",
    "Xtrain"
   ],
   "metadata": {
    "collapsed": false
   }
  },
  {
   "cell_type": "code",
   "execution_count": null,
   "outputs": [],
   "source": [],
   "metadata": {
    "collapsed": false
   }
  },
  {
   "cell_type": "code",
   "execution_count": null,
   "outputs": [],
   "source": [
    "Xtrain.shape"
   ],
   "metadata": {
    "collapsed": false
   }
  },
  {
   "cell_type": "code",
   "execution_count": null,
   "outputs": [],
   "source": [
    "Xtest.shape"
   ],
   "metadata": {
    "collapsed": false
   }
  },
  {
   "cell_type": "code",
   "execution_count": null,
   "outputs": [],
   "source": [
    "Ytrain.shape"
   ],
   "metadata": {
    "collapsed": false
   }
  },
  {
   "cell_type": "code",
   "execution_count": null,
   "outputs": [],
   "source": [
    "Ytest.shape"
   ],
   "metadata": {
    "collapsed": false
   }
  },
  {
   "cell_type": "code",
   "execution_count": null,
   "outputs": [],
   "source": [
    "# 利用Pipeline定义不同变量清洗过程\n",
    "from sklearn.pipeline import Pipeline\n",
    "from sklearn.preprocessing import StandardScaler # 数据标准化\n",
    "\n",
    "# 连续型：处理顺序为1.DataFrameSelector 选择数据集，2.SimpleImputer填充缺失值，3.StandardScaler进行标准化数据\n",
    "num_pipeline = Pipeline([\n",
    "    ('selector', DataFrameSelector(list_train_num)),\n",
    "    ('simple_imputer', SimpleImputer(strategy=\"most_frequent\")),# median为中位数，most_frequent为众数。constant表示将空值填充为自定义的值，但这个自定义的值要通过fill_value来定义\n",
    "    ('std_scaler', StandardScaler()), # 进行标准化\n",
    "    ])\n",
    "\n",
    "# 离散，将数据转化为 数字\n",
    "cat_pipeline = Pipeline([\n",
    "    ('selector', DataFrameSelector(list_train_str)),\n",
    "    ('simple_imputer', SimpleImputer(strategy=\"most_frequent\")),\n",
    "    ('label_encoder', ExeLabelEncoder()), # 进行 ExeLabelEncoder\n",
    "    ])\n",
    "\n",
    "# 离散，将数据转化为 数字，并进行onehot编码\n",
    "cat_onehot_pipeline = Pipeline([ # 类别需要onehot编码\n",
    "    ('selector', DataFrameSelector(list_train_str_needtrf)),\n",
    "    ('cat_encoder', CategoricalEncoder(encoding=\"onehot-dense\")),\n",
    "    ])\n",
    "\n",
    "Xtrain"
   ],
   "metadata": {
    "collapsed": false
   }
  },
  {
   "cell_type": "code",
   "execution_count": null,
   "outputs": [],
   "source": [
    "Ytrain"
   ],
   "metadata": {
    "collapsed": false
   }
  },
  {
   "cell_type": "code",
   "execution_count": null,
   "outputs": [],
   "source": [
    "# K Fold Cross Validation\n",
    "# from sklearn.model_selection import KFold,cross_val_score\n",
    "# kfold=KFold(n_splits=10, shuffle=True, random_state=10)\n"
   ],
   "metadata": {
    "collapsed": false
   }
  },
  {
   "cell_type": "code",
   "execution_count": null,
   "outputs": [],
   "source": [
    "# from sklearn.metrics import accuracy_score\n",
    "# from sklearn.linear_model import LogisticRegression\n",
    "#\n",
    "# LR = LogisticRegression()\n",
    "#\n",
    "# LR.fit(Xtrain,Ytrain)\n",
    "#\n",
    "# y_pred_LR=LR.predict(Xtest)\n",
    "# accuracy_score(Ytest,y_pred_LR)*100"
   ],
   "metadata": {
    "collapsed": false
   }
  },
  {
   "cell_type": "code",
   "execution_count": null,
   "outputs": [],
   "source": [
    "# 定义FeatureUnion 进行流水化清洗数据\n",
    "from sklearn.pipeline import FeatureUnion\n",
    "\n",
    "full_pipeline = FeatureUnion(transformer_list=[\n",
    "        (\"num_pipeline\", num_pipeline),\n",
    "        (\"cat_pipeline\", cat_pipeline),\n",
    "        (\"cat_onehot_pipeline\",cat_onehot_pipeline)\n",
    "    ])\n",
    "\n",
    "df_select_prepared = full_pipeline.fit_transform(Xtrain) # 使用流水线清洗数据，对Xtrain进行etl\n",
    "df_select_test = full_pipeline.fit_transform(Xtest) # 使用流水线清洗数据，对Xtest进行etl\n",
    "Ytrain"
   ],
   "metadata": {
    "collapsed": false
   }
  },
  {
   "cell_type": "code",
   "execution_count": null,
   "outputs": [],
   "source": [
    "\n",
    "df_select_prepared # 查看清洗后的数据维度（行列）"
   ],
   "metadata": {
    "collapsed": false
   }
  },
  {
   "cell_type": "markdown",
   "source": [
    "Feature Selection"
   ],
   "metadata": {
    "collapsed": false
   }
  },
  {
   "cell_type": "code",
   "execution_count": null,
   "outputs": [],
   "source": [
    "import pandas as pd\n",
    "from sklearn.ensemble import RandomForestClassifier as RFC\n",
    "from sklearn.model_selection import cross_val_score\n",
    "import matplotlib.pyplot as plt\n",
    "from sklearn.preprocessing import StandardScaler\n",
    "from sklearn.feature_selection import RFECV\n",
    "from sklearn.feature_selection import RFE\n"
   ],
   "metadata": {
    "collapsed": false
   }
  },
  {
   "cell_type": "code",
   "execution_count": null,
   "outputs": [],
   "source": [
    "# 1.构建RF模型\n",
    "RFC_ = RFC()                               # 随机森林\n",
    "c = RFC_.fit(Xtrain, Ytrain).feature_importances_    # 特征重要性\n",
    "print(\"重要性：\")\n",
    "c"
   ],
   "metadata": {
    "collapsed": false
   }
  },
  {
   "cell_type": "code",
   "execution_count": null,
   "outputs": [],
   "source": [
    "\n",
    "# 2. 交叉验证递归特征消除法\n",
    "selector = RFECV(RFC_, step=1, cv=10)       # 采用交叉验证，每次排除一个特征，筛选出最优特征\n",
    "selector = selector.fit(Xtrain, Ytrain)\n",
    "X_wrapper = selector.transform(Xtrain)          # 最优特征\n",
    "score =cross_val_score(RFC_ , X_wrapper, Ytrain, cv=10).mean()   # 最优特征分类结果\n",
    "print(score)\n",
    "print(\"最佳数量和排序\")\n",
    "print(selector.support_)                                    # 选取结果\n",
    "print(selector.n_features_)                                 # 选取特征数量\n",
    "print(selector.ranking_)                                    # 依次排数特征排序"
   ],
   "metadata": {
    "collapsed": false
   }
  },
  {
   "cell_type": "code",
   "execution_count": null,
   "outputs": [],
   "source": [
    "print(score)\n",
    "print(\"最佳数量和排序\")\n",
    "selector.support_                                # 选取结果"
   ],
   "metadata": {
    "collapsed": false
   }
  },
  {
   "cell_type": "code",
   "execution_count": null,
   "outputs": [],
   "source": [
    "# 3.递归特征消除法\n",
    "selector1 = RFE(RFC_, n_features_to_select=3, step=1).fit(Xtrain, Ytrain)       # n_features_to_select表示筛选最终特征数量，step表示每次排除一个特征\n",
    "selector1.support_.sum()\n",
    "print(selector1.ranking_)                                             # 特征排除排序\n",
    "print(selector1.n_features_)                                          # 选择特征数量\n",
    "X_wrapper1 = selector1.transform(Xtrain)                                   # 最优特征\n",
    "score =cross_val_score(RFC_, X_wrapper1, Ytrain, cv=9).mean()\n",
    "score"
   ],
   "metadata": {
    "collapsed": false
   }
  },
  {
   "cell_type": "code",
   "execution_count": null,
   "outputs": [],
   "source": [
    "selector1.n_features_                                # 选取特征数量"
   ],
   "metadata": {
    "collapsed": false
   }
  },
  {
   "cell_type": "code",
   "execution_count": null,
   "outputs": [],
   "source": [
    "selector1.ranking_"
   ],
   "metadata": {
    "collapsed": false
   }
  },
  {
   "cell_type": "code",
   "execution_count": null,
   "outputs": [],
   "source": [
    "selector1.support_"
   ],
   "metadata": {
    "collapsed": false
   }
  },
  {
   "cell_type": "code",
   "execution_count": null,
   "outputs": [],
   "source": [
    "\n",
    "\n"
   ],
   "metadata": {
    "collapsed": false
   }
  },
  {
   "cell_type": "code",
   "execution_count": null,
   "outputs": [],
   "source": [
    "\n",
    "# 4.递归特征消除法和曲线图选取最优特征数量\n",
    "score = []                                                            # 建立列表\n",
    "for i in range(1, 17, 1):\n",
    "    X_wrapper = RFE(RFC_, n_features_to_select=i, step=1).fit_transform(Xtrain, Ytrain)    # 最优特征\n",
    "    once = cross_val_score(RFC_, X_wrapper, Ytrain, cv=9).mean()                      # 交叉验证\n",
    "    score.append(once)                                                           # 交叉验证结果保存到列表\n",
    "print(max(score), (score.index(max(score))*1)+1)                                 # 输出最优分类结果和对应的特征数量\n",
    "print(score)\n",
    "plt.figure(figsize=[20, 5])\n",
    "plt.plot(range(1, 17, 1), score)\n",
    "plt.xticks(range(1, 17, 1))\n",
    "plt.show()"
   ],
   "metadata": {
    "collapsed": false
   }
  },
  {
   "cell_type": "code",
   "execution_count": null,
   "outputs": [],
   "source": [
    "# from sklearn.feature_selection import RFE\n",
    "# from sklearn.linear_model import LogisticRegression\n",
    "# #递归特征消除法，返回特征选择后的数据\n",
    "# #参数estimator为基模型\n",
    "# #参数n_features_to_select为选择的特征个数\n",
    "# RFE = RFE(LogisticRegression(),\n",
    "#     n_features_to_select=2).fit(Xtrain,\n",
    "#                                 Ytrain)"
   ],
   "metadata": {
    "collapsed": false
   }
  },
  {
   "cell_type": "code",
   "execution_count": null,
   "outputs": [],
   "source": [
    "# RFE.ranking_"
   ],
   "metadata": {
    "collapsed": false
   }
  },
  {
   "cell_type": "code",
   "execution_count": null,
   "outputs": [],
   "source": [
    "Xtrain"
   ],
   "metadata": {
    "collapsed": false
   }
  },
  {
   "cell_type": "code",
   "execution_count": null,
   "outputs": [],
   "source": [
    "list_factor_todrop = ['Hospital_type_code', 'Hospital_region_code', 'Ward_Facility_Code']  #需要抛弃的变量\n",
    "Xtrain.drop(list_factor_todrop, axis=1, inplace=True)\n",
    "Xtest.drop(list_factor_todrop, axis=1, inplace=True)\n"
   ],
   "metadata": {
    "collapsed": false
   }
  },
  {
   "cell_type": "markdown",
   "source": [
    "Logistic Regression"
   ],
   "metadata": {
    "collapsed": false
   }
  },
  {
   "cell_type": "code",
   "execution_count": null,
   "outputs": [],
   "source": [],
   "metadata": {
    "collapsed": false
   }
  },
  {
   "cell_type": "code",
   "execution_count": null,
   "outputs": [],
   "source": [],
   "metadata": {
    "collapsed": false
   }
  },
  {
   "cell_type": "code",
   "execution_count": null,
   "outputs": [],
   "source": [
    "from mlxtend.classifier import LogisticRegression as LR\n",
    "from sklearn.metrics import accuracy_score\n",
    "# LR.fit(np.array([[1],[4],[2]]), np.array([1,0,1]))\n",
    "# LR.predict(np.array([[1],[4],[2]]))"
   ],
   "metadata": {
    "collapsed": false
   }
  },
  {
   "cell_type": "code",
   "execution_count": null,
   "outputs": [],
   "source": [
    "# Ytrain"
   ],
   "metadata": {
    "collapsed": false
   }
  },
  {
   "cell_type": "code",
   "execution_count": null,
   "outputs": [],
   "source": [
    "# from mlxtend.classifier import LogisticRegression\n",
    "# from sklearn.metrics import accuracy_score\n",
    "#\n",
    "# LR = LogisticRegression()\n",
    "#\n",
    "# LR.fit(np.array(Xtrain),np.array(Ytrain))\n",
    "#\n",
    "# y_pred_LR=LR.predict(np.array(Xtest))\n",
    "# accuracy_score(np.array(Ytest),y_pred_LR)*100"
   ],
   "metadata": {
    "collapsed": false
   }
  },
  {
   "cell_type": "code",
   "execution_count": null,
   "outputs": [],
   "source": [
    "# from sklearn.metrics import classification_report\n",
    "#\n",
    "# print(classification_report(Ytest,y_pred_LR))\n"
   ],
   "metadata": {
    "collapsed": false
   }
  },
  {
   "cell_type": "markdown",
   "source": [
    "Decision Tree"
   ],
   "metadata": {
    "collapsed": false
   }
  },
  {
   "cell_type": "code",
   "execution_count": null,
   "outputs": [],
   "source": [
    "from sklearn.tree import DecisionTreeClassifier\n",
    "\n",
    "decision_tree_classification = DecisionTreeClassifier(criterion = 'entropy', random_state = 10)\n",
    "\n",
    "decision_tree = decision_tree_classification.fit(Xtrain, Ytrain)\n",
    "y_pred_DT=decision_tree.predict(Xtest)\n",
    "accuracy_score(Ytest,y_pred_DT)*100"
   ],
   "metadata": {
    "collapsed": false
   }
  },
  {
   "cell_type": "code",
   "execution_count": null,
   "outputs": [],
   "source": [
    "from sklearn.metrics import classification_report\n",
    "\n",
    "print(classification_report(Ytest,y_pred_DT))"
   ],
   "metadata": {
    "collapsed": false
   }
  },
  {
   "cell_type": "markdown",
   "source": [
    "Tuned HyperParameter Decision Tree"
   ],
   "metadata": {
    "collapsed": false
   }
  },
  {
   "cell_type": "code",
   "execution_count": null,
   "outputs": [],
   "source": [
    "dt_tuned = DecisionTreeClassifier(criterion = 'gini', max_depth=11, random_state = 10)\n",
    "\n",
    "decision_tree_tuned = dt_tuned.fit(Xtrain, Ytrain)\n",
    "y_pred_DT_tuned = decision_tree_tuned.predict(Xtest)\n",
    "accuracy_score(Ytest,y_pred_DT_tuned)*100"
   ],
   "metadata": {
    "collapsed": false
   }
  },
  {
   "cell_type": "code",
   "execution_count": null,
   "outputs": [],
   "source": [
    "\n",
    "print(classification_report(Ytest,y_pred_DT_tuned))"
   ],
   "metadata": {
    "collapsed": false
   }
  },
  {
   "cell_type": "markdown",
   "source": [
    "Random Forest"
   ],
   "metadata": {
    "collapsed": false
   }
  },
  {
   "cell_type": "code",
   "execution_count": null,
   "outputs": [],
   "source": [
    "from sklearn.ensemble import RandomForestClassifier\n",
    "\n",
    "rf_classification = RandomForestClassifier(random_state = 10)\n",
    "\n",
    "rf_model = rf_classification.fit(Xtrain, Ytrain)\n",
    "y_pred_RF = rf_model.predict(Xtest)\n",
    "accuracy_score(Ytest,y_pred_RF)*100"
   ],
   "metadata": {
    "collapsed": false
   }
  },
  {
   "cell_type": "code",
   "execution_count": null,
   "outputs": [],
   "source": [
    "print(classification_report(Ytest,y_pred_RF))"
   ],
   "metadata": {
    "collapsed": false
   }
  },
  {
   "cell_type": "markdown",
   "source": [
    "Naive Bayes"
   ],
   "metadata": {
    "collapsed": false
   }
  },
  {
   "cell_type": "code",
   "execution_count": null,
   "outputs": [],
   "source": [
    "from sklearn.naive_bayes import GaussianNB\n",
    "NB = GaussianNB()\n",
    "NB.fit(Xtrain,Ytrain)\n",
    "\n",
    "y_pred_NB = NB.predict(Xtest)\n",
    "accuracy_score(Ytest,y_pred_NB)*100"
   ],
   "metadata": {
    "collapsed": false
   }
  },
  {
   "cell_type": "code",
   "execution_count": null,
   "outputs": [],
   "source": [
    "print(classification_report(Ytest,y_pred_NB))"
   ],
   "metadata": {
    "collapsed": false
   }
  },
  {
   "cell_type": "markdown",
   "source": [
    "KNN"
   ],
   "metadata": {
    "collapsed": false
   }
  },
  {
   "cell_type": "code",
   "execution_count": null,
   "outputs": [],
   "source": [
    "from sklearn.neighbors import KNeighborsClassifier\n",
    "\n",
    "knn=KNeighborsClassifier(n_neighbors=3,weights='distance')\n",
    "knn.fit(Xtrain,Ytrain)"
   ],
   "metadata": {
    "collapsed": false
   }
  },
  {
   "cell_type": "code",
   "execution_count": null,
   "outputs": [],
   "source": [
    "y_pred_KNN = NB.predict(Xtest)\n",
    "accuracy_score(Ytest,y_pred_KNN)*100"
   ],
   "metadata": {
    "collapsed": false
   }
  },
  {
   "cell_type": "code",
   "execution_count": null,
   "outputs": [],
   "source": [
    "print(classification_report(Ytest,y_pred_NB))"
   ],
   "metadata": {
    "collapsed": false
   }
  },
  {
   "cell_type": "code",
   "execution_count": null,
   "outputs": [],
   "source": [],
   "metadata": {
    "collapsed": false
   }
  },
  {
   "cell_type": "code",
   "execution_count": null,
   "outputs": [],
   "source": [],
   "metadata": {
    "collapsed": false
   }
  },
  {
   "cell_type": "code",
   "execution_count": null,
   "outputs": [],
   "source": [],
   "metadata": {
    "collapsed": false
   }
  }
 ],
 "metadata": {
  "kernelspec": {
   "display_name": "Python 3",
   "language": "python",
   "name": "python3"
  },
  "language_info": {
   "codemirror_mode": {
    "name": "ipython",
    "version": 2
   },
   "file_extension": ".py",
   "mimetype": "text/x-python",
   "name": "python",
   "nbconvert_exporter": "python",
   "pygments_lexer": "ipython2",
   "version": "2.7.6"
  }
 },
 "nbformat": 4,
 "nbformat_minor": 0
}
